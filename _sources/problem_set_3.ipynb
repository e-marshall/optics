{
 "cells": [
  {
   "cell_type": "markdown",
   "id": "72c678c0-b1b0-4967-bf70-36cd18067228",
   "metadata": {},
   "source": [
    "# Problem set 3\n",
    "\n",
    "Emma Marshall <br>\n",
    "11/10/2022"
   ]
  },
  {
   "cell_type": "code",
   "execution_count": 29,
   "id": "66a3a1bb-8066-4bfa-b495-0e75d213f193",
   "metadata": {},
   "outputs": [],
   "source": [
    "import pandas as pd\n",
    "import math\n",
    "from matplotlib import pyplot as plt\n",
    "import numpy as np\n",
    "from optics_functions import *"
   ]
  },
  {
   "cell_type": "markdown",
   "id": "4e420971-b2cb-403d-adc1-80b7865897b3",
   "metadata": {},
   "source": [
    "## Problem 1\n",
    "Spectral irradiance at the top of the atmosphere at 680 nm is approximately 1.5 Wm-2nm-1. What would direct spectral irradiance be at the surface if theta = 0 and optical depth (tau) = 0.28?"
   ]
  },
  {
   "cell_type": "code",
   "execution_count": 7,
   "id": "f3e5ec8a-ebb7-4c45-a445-fe92536c72e6",
   "metadata": {},
   "outputs": [],
   "source": [
    "theta = 0\n",
    "tau_n = 0.28\n",
    "E_n = 1.5"
   ]
  },
  {
   "cell_type": "code",
   "execution_count": 8,
   "id": "ee1b8147-91c0-4034-b860-753dc0895a3d",
   "metadata": {},
   "outputs": [],
   "source": [
    "def beerlambert_oz(E_nought, tau_nought, theta):\n",
    "    '''Beer Lambert's Law taking into account optical depth and zenith angle'''\n",
    "    x = (-tau_nought / math.cos(math.radians(theta)))\n",
    "    \n",
    "    E_theta = E_n * math.exp(x)\n",
    "    \n",
    "    return E_theta"
   ]
  },
  {
   "cell_type": "code",
   "execution_count": 9,
   "id": "463fac06-8a66-4adb-9fd6-3b9468908d2b",
   "metadata": {},
   "outputs": [],
   "source": [
    "e_theta = beerlambert_oz(E_n, tau_n, theta)"
   ]
  },
  {
   "cell_type": "code",
   "execution_count": 10,
   "id": "91e8a10c-0694-486b-8ff6-02e6bcc6a7a1",
   "metadata": {},
   "outputs": [
    {
     "data": {
      "text/plain": [
       "1.1336756121835883"
      ]
     },
     "execution_count": 10,
     "metadata": {},
     "output_type": "execute_result"
    }
   ],
   "source": [
    "e_theta"
   ]
  },
  {
   "cell_type": "markdown",
   "id": "dc621300-c680-43c5-956d-82992aa20b94",
   "metadata": {},
   "source": [
    "## Problem 2\n",
    "\n",
    "You measure transmittance as 0.57 at a solar zenith angle of 71. What is tau nought at theta = 0? \n",
    "\n",
    "First calculate optical depth at theta = 71:"
   ]
  },
  {
   "cell_type": "code",
   "execution_count": 31,
   "id": "3526b9dd-c849-4dd1-82dc-c21a992fa164",
   "metadata": {},
   "outputs": [],
   "source": [
    "theta = 71\n",
    "T_n = 0.57"
   ]
  },
  {
   "cell_type": "code",
   "execution_count": 33,
   "id": "dc9ed8ee-07ff-4831-811a-a9ae6e149ff3",
   "metadata": {},
   "outputs": [
    {
     "data": {
      "text/plain": [
       "0.18300801876870199"
      ]
     },
     "execution_count": 33,
     "metadata": {},
     "output_type": "execute_result"
    }
   ],
   "source": [
    "tau_71 = -(math.cos(math.radians(theta))*math.log(T_n))\n",
    "tau_71"
   ]
  },
  {
   "cell_type": "markdown",
   "id": "45720ba2-7d10-416b-8cb4-48acf6d6475b",
   "metadata": {},
   "source": [
    "Then calc optical depth at theta = 0:"
   ]
  },
  {
   "cell_type": "code",
   "execution_count": 36,
   "id": "8b0c8fea-2b3c-4924-b42f-593ced5d8138",
   "metadata": {},
   "outputs": [],
   "source": [
    "tau_0 = tau_71 * math.cos(math.radians(theta))"
   ]
  },
  {
   "cell_type": "code",
   "execution_count": 37,
   "id": "8098d60d-eed1-437d-8408-5eb34454d1c2",
   "metadata": {},
   "outputs": [
    {
     "data": {
      "text/plain": [
       "0.05958158292138701"
      ]
     },
     "execution_count": 37,
     "metadata": {},
     "output_type": "execute_result"
    }
   ],
   "source": [
    "tau_0"
   ]
  },
  {
   "cell_type": "code",
   "execution_count": null,
   "id": "2d1fedd7-5f93-4186-8c60-f57144397d0a",
   "metadata": {},
   "outputs": [
    {
     "data": {
      "text/plain": [
       "0.05958158292138701"
      ]
     },
     "execution_count": 7,
     "metadata": {},
     "output_type": "execute_result"
    }
   ],
   "source": [
    "tau_theta * math.cos(math.radians(71))"
   ]
  },
  {
   "cell_type": "markdown",
   "id": "c6539ed4-85d0-44a6-8615-2c70276a40a2",
   "metadata": {},
   "source": [
    "## Problem 3\n",
    "\n",
    "Again assume spectral irradiance at TOA at 680 nm is 1.5 Wm-2 nm-1. What would direct spectral irradiance be at the surface if theta=45 and tau_nought = 0.31? Hint: don't forget Lambert's Cosine Law"
   ]
  },
  {
   "cell_type": "code",
   "execution_count": 34,
   "id": "02be332f-759a-4b80-a017-1df2cf3c32e1",
   "metadata": {},
   "outputs": [],
   "source": [
    "E_n = 1.5\n",
    "tau_3n = 0.31\n",
    "theta_3 = 45"
   ]
  },
  {
   "cell_type": "code",
   "execution_count": 35,
   "id": "9e8e9074-e990-43e9-85ca-16b4363ad26a",
   "metadata": {},
   "outputs": [],
   "source": [
    "cos45 = math.cos(math.radians(theta_3))"
   ]
  },
  {
   "cell_type": "code",
   "execution_count": 36,
   "id": "14105e7d-f972-4a15-be38-18e15afbbbd5",
   "metadata": {},
   "outputs": [],
   "source": [
    "T2surf = math.exp(-tau_3n/ cos45)"
   ]
  },
  {
   "cell_type": "code",
   "execution_count": 37,
   "id": "569a6f1e-9b33-4f4a-8044-1fd0c53d8946",
   "metadata": {},
   "outputs": [
    {
     "data": {
      "text/plain": [
       "0.6841933769289592"
      ]
     },
     "execution_count": 37,
     "metadata": {},
     "output_type": "execute_result"
    }
   ],
   "source": [
    "E_n * cos45 * T2surf"
   ]
  },
  {
   "cell_type": "code",
   "execution_count": null,
   "id": "24a3b7c3-1429-48f1-8d62-790f037153c1",
   "metadata": {},
   "outputs": [],
   "source": []
  },
  {
   "cell_type": "code",
   "execution_count": null,
   "id": "28512d67-e5ef-4bf9-a19c-6ed909c9c2b0",
   "metadata": {},
   "outputs": [
    {
     "data": {
      "text/plain": [
       "0.6841933769289592"
      ]
     },
     "execution_count": 19,
     "metadata": {},
     "output_type": "execute_result"
    }
   ],
   "source": [
    "math.exp((-0.31/ math.cos(math.radians(45)))) * math.cos(math.radians(45)) * 1.5"
   ]
  },
  {
   "cell_type": "code",
   "execution_count": null,
   "id": "9a26fb6e-7861-424b-a3d3-f1346fc7cb6d",
   "metadata": {},
   "outputs": [
    {
     "data": {
      "text/plain": [
       "0.4384062043356594"
      ]
     },
     "execution_count": 15,
     "metadata": {},
     "output_type": "execute_result"
    }
   ],
   "source": [
    "0.31 / math.cos(math.radians(45))"
   ]
  },
  {
   "cell_type": "code",
   "execution_count": 29,
   "id": "8c24b4b1-4f88-4a13-8cd7-68644d5ba45e",
   "metadata": {},
   "outputs": [
    {
     "data": {
      "text/plain": [
       "1.1001704343364338"
      ]
     },
     "execution_count": 29,
     "metadata": {},
     "output_type": "execute_result"
    }
   ],
   "source": [
    "beerlambert_oz(1.5, 0.31, 0)"
   ]
  },
  {
   "cell_type": "code",
   "execution_count": 86,
   "id": "d515c941-0ef5-4ad7-a491-cb1219e9dcf5",
   "metadata": {},
   "outputs": [
    {
     "data": {
      "text/plain": [
       "0.6841933769289592"
      ]
     },
     "execution_count": 86,
     "metadata": {},
     "output_type": "execute_result"
    }
   ],
   "source": [
    "1.5 * math.exp(-0.31/math.cos(math.radians(45))) * math.cos(math.radians(45))"
   ]
  },
  {
   "cell_type": "markdown",
   "id": "481eb6b6-fb55-45e7-9d9f-8165a6602444",
   "metadata": {},
   "source": [
    "## Question 4\n",
    "\n",
    "1. Calc zenith angle at 9 am \n",
    "    - need declination, hour angle, beta"
   ]
  },
  {
   "cell_type": "markdown",
   "id": "511f589d-7420-40be-828a-26d3ec61c7ea",
   "metadata": {},
   "source": [
    "### Calc zenith angle at 9am"
   ]
  },
  {
   "cell_type": "code",
   "execution_count": 16,
   "id": "246c4547-ce65-45e4-a201-4bbde360995f",
   "metadata": {},
   "outputs": [
    {
     "data": {
      "text/plain": [
       "203"
      ]
     },
     "execution_count": 16,
     "metadata": {},
     "output_type": "execute_result"
    }
   ],
   "source": [
    "j_jul22 = 31 + 28 + 31 + 30 + 31 + 30 + 22\n",
    "j_jul22"
   ]
  },
  {
   "cell_type": "code",
   "execution_count": 17,
   "id": "3268025f-cac4-4066-8841-acafb64b95d7",
   "metadata": {},
   "outputs": [],
   "source": [
    "beta_dv = 36.5\n",
    "lambda_dv = -117"
   ]
  },
  {
   "cell_type": "code",
   "execution_count": 18,
   "id": "ec767149-26b7-42c8-bb8c-d6c61ea8299d",
   "metadata": {},
   "outputs": [
    {
     "data": {
      "text/plain": [
       "20.189535822596916"
      ]
     },
     "execution_count": 18,
     "metadata": {},
     "output_type": "execute_result"
    }
   ],
   "source": [
    "dec_jul22 = calc_declination(j_jul22)\n",
    "dec_jul22"
   ]
  },
  {
   "cell_type": "code",
   "execution_count": 19,
   "id": "ca2e5248-91be-4190-acb1-babbee0ebf24",
   "metadata": {},
   "outputs": [
    {
     "data": {
      "text/plain": [
       "-6.096097815682823"
      ]
     },
     "execution_count": 19,
     "metadata": {},
     "output_type": "execute_result"
    }
   ],
   "source": [
    "et_jul22_num = equation_of_time(j_jul22)\n",
    "et_jul22_num #so solar noon is after 12 pm"
   ]
  },
  {
   "cell_type": "code",
   "execution_count": 20,
   "id": "0f574b6c-f697-4530-a0b8-88cfd166f491",
   "metadata": {},
   "outputs": [
    {
     "name": "stdout",
     "output_type": "stream",
     "text": [
      "0.096\n",
      "6\n"
     ]
    },
    {
     "data": {
      "text/plain": [
       "'6:05'"
      ]
     },
     "execution_count": 20,
     "metadata": {},
     "output_type": "execute_result"
    }
   ],
   "source": [
    "et_decimal = float(str(et_jul22_num)[2:6])\n",
    "et_int = int(str(et_jul22_num)[1:2])\n",
    "print(et_decimal)\n",
    "print(et_int)\n",
    "\n",
    "et_jul22_time = f'{et_int}:0{int(60*et_decimal)}'\n",
    "et_jul22_time"
   ]
  },
  {
   "cell_type": "markdown",
   "id": "8b77a526-bb23-48d2-bc5c-dccd200492cd",
   "metadata": {},
   "source": [
    "Solar noon occurs 6 mins and 5 seconds after noon on 7/22 --> **12:06:05 pm**"
   ]
  },
  {
   "cell_type": "code",
   "execution_count": 21,
   "id": "918d3eba-aa7c-4f9d-b916-0837aa0dbb57",
   "metadata": {},
   "outputs": [],
   "source": [
    "central_meridian = 120 #120 is the central meridian of pacific time zone"
   ]
  },
  {
   "cell_type": "code",
   "execution_count": 22,
   "id": "3dc702bd-6a4b-4167-a2cd-28cd5197433f",
   "metadata": {},
   "outputs": [
    {
     "data": {
      "text/plain": [
       "-3"
      ]
     },
     "execution_count": 22,
     "metadata": {},
     "output_type": "execute_result"
    }
   ],
   "source": [
    "longitude_offset = np.abs(lambda_dv) - central_meridian\n",
    "longitude_offset"
   ]
  },
  {
   "cell_type": "code",
   "execution_count": 23,
   "id": "6c9b73d2-6ceb-47d1-b0de-112e927d4197",
   "metadata": {},
   "outputs": [
    {
     "data": {
      "text/plain": [
       "-12"
      ]
     },
     "execution_count": 23,
     "metadata": {},
     "output_type": "execute_result"
    }
   ],
   "source": [
    "longitude_adjustment = longitude_offset * 4\n",
    "longitude_adjustment"
   ]
  },
  {
   "cell_type": "markdown",
   "id": "6b8e92e0-638a-4ca1-86f3-9598c71ec9af",
   "metadata": {},
   "source": [
    "Because Death Valley is East of Central Meridian in Pacific tz, subtract 12 minutes from time.\n",
    "\n",
    "12:06:05 - 12 minutes = **solar noon is 11:54:05 AM PT on 7/22 in Death Valley**\n",
    "\n",
    "\n",
    "Now calculate difference between target time and solar noon:"
   ]
  },
  {
   "cell_type": "code",
   "execution_count": 24,
   "id": "8aee514e-61b3-45b0-8302-764f559aeabe",
   "metadata": {},
   "outputs": [
    {
     "data": {
      "text/plain": [
       "-2.9"
      ]
     },
     "execution_count": 24,
     "metadata": {},
     "output_type": "execute_result"
    }
   ],
   "source": [
    "hour_angle_time = - (2 + (54/60))\n",
    "hour_angle_time"
   ]
  },
  {
   "cell_type": "code",
   "execution_count": 25,
   "id": "3aa3910d-b79c-468c-873c-5ac48cea6206",
   "metadata": {},
   "outputs": [
    {
     "data": {
      "text/plain": [
       "-43.5"
      ]
     },
     "execution_count": 25,
     "metadata": {},
     "output_type": "execute_result"
    }
   ],
   "source": [
    "hour_angle = hour_angle_time * 15\n",
    "hour_angle"
   ]
  },
  {
   "cell_type": "markdown",
   "id": "6bd566a1-7ca8-4def-9fca-a2782dc9fb15",
   "metadata": {},
   "source": [
    "Now calculate solar zenith angle:"
   ]
  },
  {
   "cell_type": "code",
   "execution_count": 26,
   "id": "aacc32d2-088d-492f-b6f4-89994078b86a",
   "metadata": {},
   "outputs": [
    {
     "data": {
      "text/plain": [
       "41.187493987861686"
      ]
     },
     "execution_count": 26,
     "metadata": {},
     "output_type": "execute_result"
    }
   ],
   "source": [
    "theta_dv_9 = calc_zenith(dec_jul22, beta_dv, hour_angle)\n",
    "theta_dv_9"
   ]
  },
  {
   "cell_type": "markdown",
   "id": "11b65d3b-8ca5-4b76-8881-6076d4823a1b",
   "metadata": {},
   "source": [
    "So the solar zenith angle at 9 am on 7/22/23 in Death Valley is **41.188 degrees**"
   ]
  },
  {
   "cell_type": "markdown",
   "id": "a1241065-df62-471a-8dc2-c798d9fc18c5",
   "metadata": {},
   "source": [
    "### Calc zenith angle at 11 am"
   ]
  },
  {
   "cell_type": "code",
   "execution_count": 38,
   "id": "aa430e4e-4522-4d98-b6dd-60385ff78e0b",
   "metadata": {},
   "outputs": [],
   "source": [
    "hour_angle_time2 = -(54/60)"
   ]
  },
  {
   "cell_type": "code",
   "execution_count": 39,
   "id": "5404da96-65ae-422b-8eb9-a37450a5dadc",
   "metadata": {},
   "outputs": [
    {
     "data": {
      "text/plain": [
       "-13.5"
      ]
     },
     "execution_count": 39,
     "metadata": {},
     "output_type": "execute_result"
    }
   ],
   "source": [
    "hour_angle2 = hour_angle_time2 * 15\n",
    "hour_angle2"
   ]
  },
  {
   "cell_type": "code",
   "execution_count": 40,
   "id": "b5d63730-a362-4bc4-a763-25d042457e80",
   "metadata": {},
   "outputs": [
    {
     "data": {
      "text/plain": [
       "20.131013483820002"
      ]
     },
     "execution_count": 40,
     "metadata": {},
     "output_type": "execute_result"
    }
   ],
   "source": [
    "theta_dv_11 = calc_zenith(dec_jul22, beta_dv, hour_angle2)\n",
    "theta_dv_11"
   ]
  },
  {
   "cell_type": "markdown",
   "id": "b7d7d628-c970-43c2-b46c-5d9c56bef532",
   "metadata": {},
   "source": [
    "### Calculate optical depth at theta 1"
   ]
  },
  {
   "cell_type": "code",
   "execution_count": 42,
   "id": "28a2f041-bcbb-43f2-9db4-627ab1e51d0c",
   "metadata": {},
   "outputs": [
    {
     "data": {
      "text/plain": [
       "0.579818495252942"
      ]
     },
     "execution_count": 42,
     "metadata": {},
     "output_type": "execute_result"
    }
   ],
   "source": [
    "tau_41 = - math.log(0.56)\n",
    "tau_41"
   ]
  },
  {
   "cell_type": "markdown",
   "id": "1c2e9022-8609-4d08-90d5-09c58e717d77",
   "metadata": {},
   "source": [
    "### Calculate tau nought"
   ]
  },
  {
   "cell_type": "code",
   "execution_count": 43,
   "id": "e417c355-7bd1-422d-bb0c-a3cd47c46671",
   "metadata": {},
   "outputs": [
    {
     "data": {
      "text/plain": [
       "0.4363474320551814"
      ]
     },
     "execution_count": 43,
     "metadata": {},
     "output_type": "execute_result"
    }
   ],
   "source": [
    "tau_nought4 = tau_41 * math.cos(math.radians(theta_dv_9))\n",
    "tau_nought4"
   ]
  },
  {
   "cell_type": "markdown",
   "id": "d3c8dfcb-6d45-4916-b502-24ea5cb31ec8",
   "metadata": {},
   "source": [
    "### Calc tau at 11 am "
   ]
  },
  {
   "cell_type": "code",
   "execution_count": 44,
   "id": "afc3ce47-88f6-4f66-af0e-befd251c6e9e",
   "metadata": {},
   "outputs": [
    {
     "data": {
      "text/plain": [
       "0.021675383229259125"
      ]
     },
     "execution_count": 44,
     "metadata": {},
     "output_type": "execute_result"
    }
   ],
   "source": [
    "tau_11am = tau_nought4 / theta_dv_11\n",
    "tau_11am"
   ]
  },
  {
   "cell_type": "markdown",
   "id": "b4530508-3271-4a55-bf81-15f92650c9b1",
   "metadata": {},
   "source": [
    "### Calc transmittance at 11 am"
   ]
  },
  {
   "cell_type": "code",
   "execution_count": 45,
   "id": "fa6021ff-0ff7-4863-a050-2b7fc5a3f6e2",
   "metadata": {},
   "outputs": [
    {
     "data": {
      "text/plain": [
       "0.9785578397844437"
      ]
     },
     "execution_count": 45,
     "metadata": {},
     "output_type": "execute_result"
    }
   ],
   "source": [
    "#i think this is wrong\n",
    "T_11am = math.exp(-tau_11am)\n",
    "T_11am"
   ]
  },
  {
   "cell_type": "code",
   "execution_count": null,
   "id": "9ca7768c-5be4-4296-93c2-4002244ca496",
   "metadata": {},
   "outputs": [],
   "source": []
  },
  {
   "cell_type": "code",
   "execution_count": 46,
   "id": "88462670-1522-44d6-8b9e-5ae5d1ff4f8c",
   "metadata": {},
   "outputs": [
    {
     "data": {
      "text/plain": [
       "0.6282989209621994"
      ]
     },
     "execution_count": 46,
     "metadata": {},
     "output_type": "execute_result"
    }
   ],
   "source": [
    "#this is right\n",
    "T_11am = math.exp(-tau_nought4 / math.cos(math.radians(theta_dv_11)))\n",
    "T_11am"
   ]
  },
  {
   "cell_type": "code",
   "execution_count": null,
   "id": "4399294d-452d-49c6-bcd0-4369f97f9c49",
   "metadata": {},
   "outputs": [],
   "source": [
    "beta = 36.5"
   ]
  },
  {
   "cell_type": "code",
   "execution_count": null,
   "id": "ba043f1f-d2e7-46f3-8f70-220d94040f2e",
   "metadata": {},
   "outputs": [],
   "source": [
    "dec = calc_declination(doy)"
   ]
  },
  {
   "cell_type": "code",
   "execution_count": null,
   "id": "6c07acd1-21dd-434f-b8d4-148c48fe735c",
   "metadata": {},
   "outputs": [
    {
     "data": {
      "text/plain": [
       "20.189535822596916"
      ]
     },
     "execution_count": 34,
     "metadata": {},
     "output_type": "execute_result"
    }
   ],
   "source": [
    "dec"
   ]
  },
  {
   "cell_type": "code",
   "execution_count": null,
   "id": "6c26505d-e0ff-4a52-ac91-d0f0fbb13d7c",
   "metadata": {},
   "outputs": [],
   "source": [
    "et  = equation_of_time(doy)"
   ]
  },
  {
   "cell_type": "code",
   "execution_count": 37,
   "id": "5118442e-ba7e-4344-a396-ccfdeb7d1d62",
   "metadata": {},
   "outputs": [
    {
     "data": {
      "text/plain": [
       "-6.096097815682823"
      ]
     },
     "execution_count": 37,
     "metadata": {},
     "output_type": "execute_result"
    }
   ],
   "source": [
    "et"
   ]
  },
  {
   "cell_type": "code",
   "execution_count": null,
   "id": "53d74d4c-295e-40b3-9f79-316994197fb2",
   "metadata": {},
   "outputs": [],
   "source": []
  }
 ],
 "metadata": {
  "kernelspec": {
   "display_name": "Python 3 (ipykernel)",
   "language": "python",
   "name": "python3"
  },
  "language_info": {
   "codemirror_mode": {
    "name": "ipython",
    "version": 3
   },
   "file_extension": ".py",
   "mimetype": "text/x-python",
   "name": "python",
   "nbconvert_exporter": "python",
   "pygments_lexer": "ipython3",
   "version": "3.10.6"
  }
 },
 "nbformat": 4,
 "nbformat_minor": 5
}
