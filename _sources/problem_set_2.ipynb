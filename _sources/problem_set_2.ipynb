{
 "cells": [
  {
   "cell_type": "markdown",
   "id": "fff5d6c6-ae16-45ac-b517-381c9d9ce0fd",
   "metadata": {},
   "source": [
    "# Problem Set 2\n",
    "\n",
    "Emma Marshall"
   ]
  },
  {
   "cell_type": "code",
   "execution_count": 1,
   "id": "8d60d973-e97c-482c-8612-e6fc35e38cc9",
   "metadata": {},
   "outputs": [],
   "source": [
    "import math\n",
    "import numpy as np\n",
    "import pandas as pd"
   ]
  },
  {
   "cell_type": "markdown",
   "id": "e905e6c7-e83c-41a3-ae82-31c99f4568d2",
   "metadata": {},
   "source": [
    "## Problem 1"
   ]
  },
  {
   "cell_type": "markdown",
   "id": "240dc4fd-8338-4294-aebd-68c3f357e0e1",
   "metadata": {},
   "source": [
    "## Problem 2\n",
    "\n",
    "Calculate angle of refraction of 500nm wavelength signal passing air-water interface at incidence angle of 67 degrees"
   ]
  },
  {
   "cell_type": "code",
   "execution_count": 2,
   "id": "cdbd9082-1e72-42fc-865a-ccdfb6964d76",
   "metadata": {},
   "outputs": [],
   "source": [
    "theta_1 = 67"
   ]
  },
  {
   "cell_type": "code",
   "execution_count": 3,
   "id": "8e77f02d-bdd8-4149-896f-eb4db3be214c",
   "metadata": {},
   "outputs": [
    {
     "data": {
      "text/plain": [
       "67"
      ]
     },
     "execution_count": 3,
     "metadata": {},
     "output_type": "execute_result"
    }
   ],
   "source": [
    "theta_1"
   ]
  },
  {
   "cell_type": "code",
   "execution_count": 4,
   "id": "b6f4e7af-956f-4f37-9116-b07970222222",
   "metadata": {},
   "outputs": [],
   "source": [
    "n_1 = 1\n",
    "n_2 = 1.339"
   ]
  },
  {
   "cell_type": "code",
   "execution_count": 5,
   "id": "420c30bf-c366-40a5-a9a4-49e483be7297",
   "metadata": {},
   "outputs": [],
   "source": [
    "theta_2 = math.degrees(math.asin(math.sin(math.radians(theta_1)) / n_2)) "
   ]
  },
  {
   "cell_type": "code",
   "execution_count": 6,
   "id": "5c44c1a5-44b0-4054-b0b2-1291b4feeaf4",
   "metadata": {},
   "outputs": [
    {
     "data": {
      "text/plain": [
       "43.429139864999954"
      ]
     },
     "execution_count": 6,
     "metadata": {},
     "output_type": "execute_result"
    }
   ],
   "source": [
    "theta_2"
   ]
  },
  {
   "cell_type": "markdown",
   "id": "63f4e839-bd2d-494e-b369-7b788a160b51",
   "metadata": {},
   "source": [
    "## Problem 3\n",
    "\n",
    "What is reflectance of a smooth water surface at 500nm if solar zenith angle is 81 deg ? \n",
    "\n",
    "1) find theta_2 (Snel's Law)\n",
    "2) find reflectance (Fresnel's)"
   ]
  },
  {
   "cell_type": "code",
   "execution_count": 7,
   "id": "3d4da538-04b1-42c6-98f7-daee1c91a890",
   "metadata": {},
   "outputs": [],
   "source": [
    "theta_13 = 81 "
   ]
  },
  {
   "cell_type": "code",
   "execution_count": 8,
   "id": "1f17cd9f-1e1b-445e-968b-c674f0f2f087",
   "metadata": {},
   "outputs": [],
   "source": [
    "def calc_theta2(n1, n2, theta1):\n",
    "    \n",
    "    theta2 = math.degrees(math.asin(1 * math.sin(math.radians(theta1))/n2))\n",
    "    return theta2"
   ]
  },
  {
   "cell_type": "code",
   "execution_count": 9,
   "id": "b2fb056c-f3a1-47ff-8985-f821618ceabc",
   "metadata": {},
   "outputs": [],
   "source": [
    "theta_23 = calc_theta2(n_1, n_2, theta_13)"
   ]
  },
  {
   "cell_type": "code",
   "execution_count": 10,
   "id": "c8a5fe14-b39e-4a0d-9dfe-b7ab67254ffa",
   "metadata": {},
   "outputs": [
    {
     "data": {
      "text/plain": [
       "47.530029563448416"
      ]
     },
     "execution_count": 10,
     "metadata": {},
     "output_type": "execute_result"
    }
   ],
   "source": [
    "theta_23"
   ]
  },
  {
   "cell_type": "code",
   "execution_count": 11,
   "id": "cdf69e70-89b7-4b11-be00-f45bdafbc36e",
   "metadata": {},
   "outputs": [],
   "source": [
    "ref_par = (math.tan(math.radians(theta_13 - theta_23)) / math.tan(math.radians(theta_13 + theta_23)))**2"
   ]
  },
  {
   "cell_type": "code",
   "execution_count": 12,
   "id": "6467a35b-28bf-4546-8c4c-596d6c584514",
   "metadata": {},
   "outputs": [
    {
     "data": {
      "text/plain": [
       "0.2771540282379578"
      ]
     },
     "execution_count": 12,
     "metadata": {},
     "output_type": "execute_result"
    }
   ],
   "source": [
    "ref_par"
   ]
  },
  {
   "cell_type": "code",
   "execution_count": 13,
   "id": "bda5922b-29c9-451f-b3ef-e96364db7353",
   "metadata": {},
   "outputs": [],
   "source": [
    "ref_perp = (math.sin(math.radians(theta_13 - theta_23)) / math.sin(math.radians(theta_13 + theta_23)))**2"
   ]
  },
  {
   "cell_type": "code",
   "execution_count": 14,
   "id": "4919abb8-89a4-461e-a5ff-07eacd3aa293",
   "metadata": {},
   "outputs": [
    {
     "data": {
      "text/plain": [
       "0.49700914346617886"
      ]
     },
     "execution_count": 14,
     "metadata": {},
     "output_type": "execute_result"
    }
   ],
   "source": [
    "ref_perp"
   ]
  },
  {
   "cell_type": "code",
   "execution_count": 15,
   "id": "aa9e428b-a299-42c2-aa6e-27ba0efc6097",
   "metadata": {},
   "outputs": [],
   "source": [
    "tot_ref = (ref_par + ref_perp)/2"
   ]
  },
  {
   "cell_type": "code",
   "execution_count": 16,
   "id": "9ef96e19-93bf-473e-bed0-3f219710ca96",
   "metadata": {},
   "outputs": [
    {
     "data": {
      "text/plain": [
       "0.3870815858520683"
      ]
     },
     "execution_count": 16,
     "metadata": {},
     "output_type": "execute_result"
    }
   ],
   "source": [
    "tot_ref"
   ]
  },
  {
   "cell_type": "code",
   "execution_count": 17,
   "id": "ae9d493d-35bb-4781-904f-7cb6c500466a",
   "metadata": {},
   "outputs": [],
   "source": [
    "def fresnels3(theta1, theta2):\n",
    "    \n",
    "    dif1 = theta1 - theta2\n",
    "    sum1 = theta1 + theta2 \n",
    "    \n",
    "    ref_par = (math.tan(math.radians(theta1 - theta2)) / math.tan(math.radians(theta1 + theta2)))**2\n",
    "    ref_perp = (math.sin(math.radians(theta1 - theta2)) / math.sin(math.radians(theta1 + theta2)))**2\n",
    "    ref_tot = (ref_par + ref_perp)/2\n",
    "    \n",
    "    return ref_tot"
   ]
  },
  {
   "cell_type": "code",
   "execution_count": 18,
   "id": "bfcc2a1d-deed-4a01-bce0-eaf74e2f755a",
   "metadata": {},
   "outputs": [],
   "source": [
    "tot_ref1 = fresnels3(81, 47.53)\n",
    "tot_ref2 = fresnels3(81, theta_23)"
   ]
  },
  {
   "cell_type": "code",
   "execution_count": 19,
   "id": "0112dca9-92e6-4350-b4a9-9c7f5f1559fb",
   "metadata": {},
   "outputs": [
    {
     "data": {
      "text/plain": [
       "0.3870815858520683"
      ]
     },
     "execution_count": 19,
     "metadata": {},
     "output_type": "execute_result"
    }
   ],
   "source": [
    "tot_ref2"
   ]
  },
  {
   "cell_type": "markdown",
   "id": "9b9b5f7f-8835-43cf-9310-0a123f984ad9",
   "metadata": {},
   "source": [
    "## Problem 4\n",
    "\n",
    "Calculate transmittance of light through 8m of water at 600 nm, 700nm\n",
    "\n",
    "600 nm: "
   ]
  },
  {
   "cell_type": "code",
   "execution_count": 20,
   "id": "f4347460-4ce9-4876-8b79-149822d46b66",
   "metadata": {},
   "outputs": [],
   "source": [
    "d = 8\n",
    "k_600 = 1.06188e-8\n",
    "lambda_600 = 600e-9"
   ]
  },
  {
   "cell_type": "code",
   "execution_count": 21,
   "id": "f24adab9-c784-4a7a-9856-dd78cb0aa1ca",
   "metadata": {},
   "outputs": [],
   "source": [
    "def calc_alpha(k, l):\n",
    "    return (4*np.pi*k) / l"
   ]
  },
  {
   "cell_type": "code",
   "execution_count": 22,
   "id": "d380250f-4a78-45ce-9844-d444a01c3502",
   "metadata": {},
   "outputs": [],
   "source": [
    "def calc_transmittance(alpha, d):\n",
    "    return math.exp(-alpha*d)"
   ]
  },
  {
   "cell_type": "markdown",
   "id": "e2dc6f20-68cf-4416-aee7-4173441975eb",
   "metadata": {},
   "source": [
    "600 nm: "
   ]
  },
  {
   "cell_type": "code",
   "execution_count": 23,
   "id": "06cb60c4-20e3-49a3-b3c8-41b86c61c70d",
   "metadata": {},
   "outputs": [],
   "source": [
    "t_600 = calc_transmittance(calc_alpha(k_600, lambda_600), d)"
   ]
  },
  {
   "cell_type": "code",
   "execution_count": 24,
   "id": "b07406e7-5c64-402a-bcff-77de44445492",
   "metadata": {},
   "outputs": [
    {
     "data": {
      "text/plain": [
       "0.16877361520524894"
      ]
     },
     "execution_count": 24,
     "metadata": {},
     "output_type": "execute_result"
    }
   ],
   "source": [
    "t_600"
   ]
  },
  {
   "cell_type": "markdown",
   "id": "37f28f33-e9fe-4149-9f2f-711076d7aece",
   "metadata": {},
   "source": [
    "700 nm: "
   ]
  },
  {
   "cell_type": "code",
   "execution_count": 25,
   "id": "1b7d64cd-8b6a-494f-a9d4-2414946e428b",
   "metadata": {},
   "outputs": [],
   "source": [
    "k_700 = 3.1874e-8\n",
    "lambda_700 = 700e-9"
   ]
  },
  {
   "cell_type": "code",
   "execution_count": 26,
   "id": "65991a7f-8605-4577-98b2-0dbaac684bf5",
   "metadata": {},
   "outputs": [],
   "source": [
    "t_700 = calc_transmittance(calc_alpha(k_700,lambda_700), d)"
   ]
  },
  {
   "cell_type": "code",
   "execution_count": 27,
   "id": "3644d4f4-026e-473a-b3b0-9f63b9893f8e",
   "metadata": {},
   "outputs": [
    {
     "data": {
      "text/plain": [
       "0.010279479222104749"
      ]
     },
     "execution_count": 27,
     "metadata": {},
     "output_type": "execute_result"
    }
   ],
   "source": [
    "t_700"
   ]
  },
  {
   "cell_type": "markdown",
   "id": "8992d46e-fbd3-406e-b059-5ede87f56862",
   "metadata": {},
   "source": [
    "## Problem 5\n",
    "\n",
    "Using a wavelength of 600 nm, calculate transmittance of light to a **depth of 5m** if the solar zenith angle is 74 degrees. Account for reflectance off water surface and path length effects"
   ]
  },
  {
   "cell_type": "code",
   "execution_count": 28,
   "id": "cda89f92-da12-4c8e-86f6-a0d061a64a9b",
   "metadata": {},
   "outputs": [],
   "source": [
    "theta_15 = 74\n",
    "n_600 = 1.331"
   ]
  },
  {
   "cell_type": "code",
   "execution_count": 29,
   "id": "48b7d710-2428-4dca-a873-40349f493aae",
   "metadata": {},
   "outputs": [],
   "source": [
    "theta_25 = calc_theta2(1, n_600, theta_15)"
   ]
  },
  {
   "cell_type": "code",
   "execution_count": 30,
   "id": "e56e0cea-a7ec-4979-aa52-6519841a3c9d",
   "metadata": {},
   "outputs": [
    {
     "data": {
      "text/plain": [
       "46.23725642505391"
      ]
     },
     "execution_count": 30,
     "metadata": {},
     "output_type": "execute_result"
    }
   ],
   "source": [
    "theta_25"
   ]
  },
  {
   "cell_type": "markdown",
   "id": "8ff296ff-99bc-4333-9570-94b9ce86d152",
   "metadata": {},
   "source": [
    "Now calc reflectance: "
   ]
  },
  {
   "cell_type": "code",
   "execution_count": 31,
   "id": "0d75109c-7385-417b-a782-814b8a5689dd",
   "metadata": {},
   "outputs": [],
   "source": [
    "ref5 = fresnels3(theta_15, theta_25)"
   ]
  },
  {
   "cell_type": "code",
   "execution_count": 32,
   "id": "65fbaa3b-0b14-4e6a-9ff9-d156629cf2f2",
   "metadata": {},
   "outputs": [
    {
     "data": {
      "text/plain": [
       "0.192424298810617"
      ]
     },
     "execution_count": 32,
     "metadata": {},
     "output_type": "execute_result"
    }
   ],
   "source": [
    "ref5"
   ]
  },
  {
   "cell_type": "code",
   "execution_count": 33,
   "id": "e4ae1904-eaa2-48ad-bb62-c3db316e6f00",
   "metadata": {},
   "outputs": [],
   "source": [
    "transmittance_5 = 1 - ref5"
   ]
  },
  {
   "cell_type": "code",
   "execution_count": 34,
   "id": "e563bafa-e1fa-4598-92e4-79df3a7ed8f9",
   "metadata": {},
   "outputs": [
    {
     "data": {
      "text/plain": [
       "0.8075757011893829"
      ]
     },
     "execution_count": 34,
     "metadata": {},
     "output_type": "execute_result"
    }
   ],
   "source": [
    "transmittance_5"
   ]
  },
  {
   "cell_type": "markdown",
   "id": "bca04507-661f-4ac7-a7bb-8630d4df0fa1",
   "metadata": {},
   "source": [
    "calculate path length:"
   ]
  },
  {
   "cell_type": "code",
   "execution_count": 35,
   "id": "8c290590-28d2-4885-b867-a4fe9f8706dd",
   "metadata": {},
   "outputs": [
    {
     "data": {
      "text/plain": [
       "7.228842103189072"
      ]
     },
     "execution_count": 35,
     "metadata": {},
     "output_type": "execute_result"
    }
   ],
   "source": [
    "path_length = 5 / math.cos(math.radians(theta_25))\n",
    "path_length"
   ]
  },
  {
   "cell_type": "code",
   "execution_count": 36,
   "id": "bcf5e5ab-358b-4869-899c-3d61ea610f4f",
   "metadata": {},
   "outputs": [
    {
     "data": {
      "text/plain": [
       "0.22239962713292866"
      ]
     },
     "execution_count": 36,
     "metadata": {},
     "output_type": "execute_result"
    }
   ],
   "source": [
    "alpha5 = calc_alpha(k_600, lambda_600)\n",
    "alpha5"
   ]
  },
  {
   "cell_type": "code",
   "execution_count": 37,
   "id": "bcf28a3b-3ae3-453c-8647-e56fb958775c",
   "metadata": {},
   "outputs": [
    {
     "data": {
      "text/plain": [
       "0.20034952988887694"
      ]
     },
     "execution_count": 37,
     "metadata": {},
     "output_type": "execute_result"
    }
   ],
   "source": [
    "transmittance_52 = calc_transmittance(alpha5, path_length)\n",
    "transmittance_52"
   ]
  },
  {
   "cell_type": "markdown",
   "id": "9641641b-5c84-47c7-8016-4f5b077ef5bd",
   "metadata": {},
   "source": [
    "## Problem 6\n",
    "\n",
    "The max. depth of Utah Lake (lat = 40.25 N, lon = 111.8 W) is approx 4.3 m.  <br>\n",
    "Find transmittance to maximum depth at 500 and 600 nm at 5:23 pm MDT, april 3, 2023"
   ]
  },
  {
   "cell_type": "code",
   "execution_count": 72,
   "id": "7c192a2f-f477-4d94-b6a3-8e0e3f5e2bdb",
   "metadata": {},
   "outputs": [],
   "source": [
    "import optics_functions\n",
    "from optics_functions import *"
   ]
  },
  {
   "cell_type": "markdown",
   "id": "de628b2d-9b39-4af0-a9a8-1bb2c292acf3",
   "metadata": {},
   "source": [
    "First calculate j for october 3 2023:"
   ]
  },
  {
   "cell_type": "code",
   "execution_count": 39,
   "id": "ab854759-a7fa-471a-a25c-23e184d55ff1",
   "metadata": {},
   "outputs": [
    {
     "data": {
      "text/plain": [
       "276"
      ]
     },
     "execution_count": 39,
     "metadata": {},
     "output_type": "execute_result"
    }
   ],
   "source": [
    "j_oct3 = 31 + 28 + 31 + 30 + 31 + 30 + 31 + 31 + 30 + 3\n",
    "j_oct3"
   ]
  },
  {
   "cell_type": "code",
   "execution_count": 40,
   "id": "48ce2669-8234-4ede-8a1e-9d2fd0e0470a",
   "metadata": {},
   "outputs": [
    {
     "data": {
      "text/plain": [
       "113"
      ]
     },
     "execution_count": 40,
     "metadata": {},
     "output_type": "execute_result"
    }
   ],
   "source": [
    "j_apr23 = 31 + 28 + 31 + 23\n",
    "j_apr23"
   ]
  },
  {
   "cell_type": "code",
   "execution_count": 41,
   "id": "5bf334f8-e62f-4752-ab7a-991e20b22825",
   "metadata": {},
   "outputs": [],
   "source": [
    "beta_ul = 40.25\n",
    "lambda_ul = -111.8"
   ]
  },
  {
   "cell_type": "markdown",
   "id": "e34ee39f-8082-4b96-b681-b7ca176f50c3",
   "metadata": {},
   "source": [
    "Calculate declination:"
   ]
  },
  {
   "cell_type": "code",
   "execution_count": 42,
   "id": "33cd7766-2e04-48de-83bd-7efda689d60b",
   "metadata": {},
   "outputs": [
    {
     "data": {
      "text/plain": [
       "12.359972267663629"
      ]
     },
     "execution_count": 42,
     "metadata": {},
     "output_type": "execute_result"
    }
   ],
   "source": [
    "dec_apr23 = calc_declination(j_apr23)\n",
    "dec_apr23"
   ]
  },
  {
   "cell_type": "code",
   "execution_count": 43,
   "id": "2ae5edfb-1d83-4576-80e7-bbbc925c9afe",
   "metadata": {},
   "outputs": [
    {
     "data": {
      "text/plain": [
       "1.6025887446145586"
      ]
     },
     "execution_count": 43,
     "metadata": {},
     "output_type": "execute_result"
    }
   ],
   "source": [
    "et_apr23_num = equation_of_time(j_apr23)\n",
    "et_apr23_num"
   ]
  },
  {
   "cell_type": "code",
   "execution_count": null,
   "id": "74413fb6-53e3-49b1-81a3-d472bc4fcaf4",
   "metadata": {},
   "outputs": [],
   "source": []
  },
  {
   "cell_type": "code",
   "execution_count": 44,
   "id": "f4d6d696-c066-4c8d-ac52-51cfa939d180",
   "metadata": {},
   "outputs": [
    {
     "name": "stdout",
     "output_type": "stream",
     "text": [
      "0.6\n",
      "1\n"
     ]
    },
    {
     "data": {
      "text/plain": [
       "'1:36'"
      ]
     },
     "execution_count": 44,
     "metadata": {},
     "output_type": "execute_result"
    }
   ],
   "source": [
    "et_decimal = float(str(et_apr23_num)[1:4])\n",
    "et_int = int(str(et_apr23_num)[:1])\n",
    "print(et_decimal)\n",
    "print(et_int)\n",
    "\n",
    "et_apr23_time = f'{et_int}:{int(60*et_decimal)}'\n",
    "et_apr23_time"
   ]
  },
  {
   "cell_type": "markdown",
   "id": "0a83232b-16f7-4daf-ab07-99d4d227fb00",
   "metadata": {},
   "source": [
    "Equation of time: \n",
    "\n",
    "So solar noon occurs 1 minute, 36 seconds before noon on 10/3. => **11:58:24 am**\n",
    "\n",
    "Position within time zone: "
   ]
  },
  {
   "cell_type": "code",
   "execution_count": 45,
   "id": "ac3d9d7c-58e0-4d2f-94ab-65c2bb425b98",
   "metadata": {},
   "outputs": [],
   "source": [
    "central_meridian = 105"
   ]
  },
  {
   "cell_type": "code",
   "execution_count": 46,
   "id": "e4dc743d-75b3-41ce-b047-258cd1ba1fd2",
   "metadata": {},
   "outputs": [
    {
     "data": {
      "text/plain": [
       "6.799999999999997"
      ]
     },
     "execution_count": 46,
     "metadata": {},
     "output_type": "execute_result"
    }
   ],
   "source": [
    "longitude_offset = np.abs(lambda_ul) - central_meridian\n",
    "longitude_offset"
   ]
  },
  {
   "cell_type": "code",
   "execution_count": 47,
   "id": "35a88bf1-148f-442c-aa5f-551818aa905f",
   "metadata": {},
   "outputs": [
    {
     "data": {
      "text/plain": [
       "27.0"
      ]
     },
     "execution_count": 47,
     "metadata": {},
     "output_type": "execute_result"
    }
   ],
   "source": [
    "longitude_adjustment = np.round(longitude_offset * 4)\n",
    "longitude_adjustment"
   ]
  },
  {
   "cell_type": "markdown",
   "id": "b125cca4-2cf0-4738-b2b3-e4631851d3f2",
   "metadata": {},
   "source": [
    "Taking into account position with time zone, solar noon occurs at:\n",
    "\n",
    "11:58:24 am + 27 minutes => **12:25:24 pm**\n",
    "\n",
    "Add hour for daylight savings: **1:25:24 pm**"
   ]
  },
  {
   "cell_type": "markdown",
   "id": "0b691bf8-c44a-4232-8458-5949162f83fc",
   "metadata": {},
   "source": [
    "Now calculate difference between target time and solar noon: \n",
    "\n",
    "target time = 5:23 pm\n",
    "solar noon = 1:25 pm\n",
    "\n",
    "**time diff = 3 hr 58 min**"
   ]
  },
  {
   "cell_type": "code",
   "execution_count": 48,
   "id": "4847d4fd-a19d-47ed-8412-6949b16df596",
   "metadata": {},
   "outputs": [
    {
     "data": {
      "text/plain": [
       "3.966666666666667"
      ]
     },
     "execution_count": 48,
     "metadata": {},
     "output_type": "execute_result"
    }
   ],
   "source": [
    "hour_angle_time = 3 + (58/60)\n",
    "hour_angle_time"
   ]
  },
  {
   "cell_type": "markdown",
   "id": "ec9b52a8-ca9e-4144-a4cf-92bf382c92e9",
   "metadata": {},
   "source": [
    "Calculate hour angle time: "
   ]
  },
  {
   "cell_type": "code",
   "execution_count": 49,
   "id": "3802afdf-de82-49bd-af82-7ae22f8e3628",
   "metadata": {},
   "outputs": [
    {
     "data": {
      "text/plain": [
       "59.5"
      ]
     },
     "execution_count": 49,
     "metadata": {},
     "output_type": "execute_result"
    }
   ],
   "source": [
    "hour_angle = hour_angle_time * 15\n",
    "hour_angle"
   ]
  },
  {
   "cell_type": "markdown",
   "id": "c10e3e70-be80-451e-820c-305668ea4fb4",
   "metadata": {},
   "source": [
    "Now, calculate solar zenith angle at Utah Lake on Oct 3 at 5:23 pm <br>\n",
    "vars needed: dec_oct3, beta_ul, hour_angle"
   ]
  },
  {
   "cell_type": "code",
   "execution_count": 50,
   "id": "f13b61c6-1ab3-4832-b599-d83de7ea9c8b",
   "metadata": {},
   "outputs": [],
   "source": [
    "zenith_ul = calc_zenith(dec_apr23, beta_ul, hour_angle)"
   ]
  },
  {
   "cell_type": "code",
   "execution_count": 51,
   "id": "74519dfb-6348-4901-866b-af7a058722ae",
   "metadata": {},
   "outputs": [
    {
     "data": {
      "text/plain": [
       "58.88910965907641"
      ]
     },
     "execution_count": 51,
     "metadata": {},
     "output_type": "execute_result"
    }
   ],
   "source": [
    "zenith_ul"
   ]
  },
  {
   "cell_type": "markdown",
   "id": "450a0947-ae14-460d-94ab-32f4d0f6933e",
   "metadata": {},
   "source": [
    "Calculate angle of refraction given incidence angle (zenith_ul)"
   ]
  },
  {
   "cell_type": "code",
   "execution_count": 52,
   "id": "9e906c68-af8f-4a29-abce-52a25b82a8c0",
   "metadata": {},
   "outputs": [],
   "source": [
    "theta2_ul_500 = calc_theta2(1, 1.339, zenith_ul)"
   ]
  },
  {
   "cell_type": "code",
   "execution_count": 53,
   "id": "bd9e04f9-eb8e-4545-b355-89d9d59e74e3",
   "metadata": {},
   "outputs": [
    {
     "data": {
      "text/plain": [
       "39.74777754922273"
      ]
     },
     "execution_count": 53,
     "metadata": {},
     "output_type": "execute_result"
    }
   ],
   "source": [
    "theta2_ul_500"
   ]
  },
  {
   "cell_type": "markdown",
   "id": "275b2a6e-b34b-4159-9027-3a9b2c2449b5",
   "metadata": {},
   "source": [
    "Calculate reflection (and then transmittance):"
   ]
  },
  {
   "cell_type": "code",
   "execution_count": 56,
   "id": "4940658a-42ba-4893-bad1-e60f2614daa2",
   "metadata": {},
   "outputs": [
    {
     "data": {
      "text/plain": [
       "0.05638910431467634"
      ]
     },
     "execution_count": 56,
     "metadata": {},
     "output_type": "execute_result"
    }
   ],
   "source": [
    "reflectance_ul_500 = fresnels3(zenith_ul, theta2_ul_500)\n",
    "reflectance_ul_500"
   ]
  },
  {
   "cell_type": "code",
   "execution_count": 57,
   "id": "8eaa8739-e46b-441d-9205-af4f3279bcf5",
   "metadata": {},
   "outputs": [
    {
     "data": {
      "text/plain": [
       "0.9436108956853236"
      ]
     },
     "execution_count": 57,
     "metadata": {},
     "output_type": "execute_result"
    }
   ],
   "source": [
    "t_fr_500 = 1 - reflectance_ul_500\n",
    "t_fr_500"
   ]
  },
  {
   "cell_type": "code",
   "execution_count": 58,
   "id": "894c5fbe-6436-4234-8720-c4e055f55070",
   "metadata": {},
   "outputs": [],
   "source": [
    "k_500 = 9.46972e-10\n",
    "lambda_500 = 500e-9"
   ]
  },
  {
   "cell_type": "code",
   "execution_count": 59,
   "id": "2dad097d-1b69-4189-b63f-b463d87ecf04",
   "metadata": {},
   "outputs": [
    {
     "data": {
      "text/plain": [
       "5.592647418508186"
      ]
     },
     "execution_count": 59,
     "metadata": {},
     "output_type": "execute_result"
    }
   ],
   "source": [
    "path_length_ul_500 = 4.3 / math.cos(math.radians(theta2_ul_500))\n",
    "path_length_ul_500        "
   ]
  },
  {
   "cell_type": "markdown",
   "id": "2eddbcae-83f4-4c7c-bdb2-7eef14d3c716",
   "metadata": {},
   "source": [
    "6.4 m radiation path length through lake depth"
   ]
  },
  {
   "cell_type": "code",
   "execution_count": 60,
   "id": "771ad681-e0f2-42b6-ac3f-ca99e536f0a0",
   "metadata": {},
   "outputs": [],
   "source": [
    "t_beers_500 = calc_transmittance(calc_alpha(k_500, lambda_500), path_length_ul_500)"
   ]
  },
  {
   "cell_type": "code",
   "execution_count": 61,
   "id": "5cc74b5a-dca2-4182-890f-712bd12fbb80",
   "metadata": {},
   "outputs": [
    {
     "data": {
      "text/plain": [
       "0.8753731547044585"
      ]
     },
     "execution_count": 61,
     "metadata": {},
     "output_type": "execute_result"
    }
   ],
   "source": [
    "t_beers_500"
   ]
  },
  {
   "cell_type": "code",
   "execution_count": 62,
   "id": "d6180907-d761-4f13-b9a6-b28beac9f093",
   "metadata": {},
   "outputs": [
    {
     "data": {
      "text/plain": [
       "0.8260116465695615"
      ]
     },
     "execution_count": 62,
     "metadata": {},
     "output_type": "execute_result"
    }
   ],
   "source": [
    "T_tot_500 = t_fr_500 * t_beers_500\n",
    "T_tot_500"
   ]
  },
  {
   "cell_type": "markdown",
   "id": "5cf4137a-1140-4755-a12b-844dedfe875b",
   "metadata": {},
   "source": [
    "### now 600 nm: "
   ]
  },
  {
   "cell_type": "code",
   "execution_count": 63,
   "id": "0d8d91e2-27b9-478e-b80c-2a817fca57e7",
   "metadata": {},
   "outputs": [
    {
     "data": {
      "text/plain": [
       "40.035220917847795"
      ]
     },
     "execution_count": 63,
     "metadata": {},
     "output_type": "execute_result"
    }
   ],
   "source": [
    "theta_2_600 = calc_theta2(1,1.331, 58.89)\n",
    "theta_2_600"
   ]
  },
  {
   "cell_type": "code",
   "execution_count": 64,
   "id": "c50793c2-5cdd-44e8-8f54-6bdba39bc0e0",
   "metadata": {},
   "outputs": [
    {
     "data": {
      "text/plain": [
       "0.05494678681117409"
      ]
     },
     "execution_count": 64,
     "metadata": {},
     "output_type": "execute_result"
    }
   ],
   "source": [
    "ref_tot = fresnels3(58.89, 40.035)\n",
    "ref_tot"
   ]
  },
  {
   "cell_type": "code",
   "execution_count": 65,
   "id": "6affe43a-2b67-40a8-82d6-c981b7e49f47",
   "metadata": {},
   "outputs": [
    {
     "data": {
      "text/plain": [
       "0.945053213188826"
      ]
     },
     "execution_count": 65,
     "metadata": {},
     "output_type": "execute_result"
    }
   ],
   "source": [
    "T_fr_600 = 1 - ref_tot\n",
    "T_fr_600"
   ]
  },
  {
   "cell_type": "code",
   "execution_count": 66,
   "id": "1c5752bd-b79f-48fa-8967-e54ae805b4c8",
   "metadata": {},
   "outputs": [
    {
     "data": {
      "text/plain": [
       "5.6161492830993005"
      ]
     },
     "execution_count": 66,
     "metadata": {},
     "output_type": "execute_result"
    }
   ],
   "source": [
    "path_length_600 = 4.3 / math.cos(math.radians(theta_2_600))\n",
    "path_length_600"
   ]
  },
  {
   "cell_type": "code",
   "execution_count": 67,
   "id": "02fff60e-052d-4d7d-816b-63c622f02541",
   "metadata": {},
   "outputs": [
    {
     "data": {
      "text/plain": [
       "0.2867829828748305"
      ]
     },
     "execution_count": 67,
     "metadata": {},
     "output_type": "execute_result"
    }
   ],
   "source": [
    "T_beers_600 = calc_transmittance(calc_alpha(k_600, lambda_600), path_length_600)\n",
    "T_beers_600"
   ]
  },
  {
   "cell_type": "code",
   "execution_count": 68,
   "id": "f7446b0e-0d61-4fc7-86cc-48a588f27de3",
   "metadata": {},
   "outputs": [
    {
     "data": {
      "text/plain": [
       "0.2710251794537346"
      ]
     },
     "execution_count": 68,
     "metadata": {},
     "output_type": "execute_result"
    }
   ],
   "source": [
    "T_tot_600 = T_fr_600 * T_beers_600\n",
    "T_tot_600"
   ]
  },
  {
   "cell_type": "code",
   "execution_count": 73,
   "id": "577b3c27-6402-4254-a7a7-d3c5ec719667",
   "metadata": {},
   "outputs": [
    {
     "name": "stdout",
     "output_type": "stream",
     "text": [
      "Help on module optics_functions:\n",
      "\n",
      "NAME\n",
      "    optics_functions - #functions for optics\n",
      "\n",
      "FUNCTIONS\n",
      "    calc_alpha(k, l)\n",
      "        return absorption coefficient given k and lambda\n",
      "    \n",
      "    calc_azimuth(delta, beta, hour_angle)\n",
      "        takes declination, beta and hour angle values in degrees, returns azimuth angle value in degrees\n",
      "    \n",
      "    calc_declination(j)\n",
      "        takes j for day of year, returns declination angle in degrees\n",
      "    \n",
      "    calc_irradiance(d, radiant_flux)\n",
      "        calculate irradiance given a distance, d and radiant flux\n",
      "    \n",
      "    calc_theta2(n1, n2, theta1)\n",
      "        snel's law - return theta2\n",
      "    \n",
      "    calc_transmittance(alpha, d)\n",
      "        calculate transmittance thru a medium given a certain path length distance and absorption coefficient\n",
      "    \n",
      "    calc_zenith(delta, beta, hour_angle)\n",
      "        takes declination, beta and hour angle values in degrees, returns zenith angle value in degrees\n",
      "    \n",
      "    equation_of_time(j)\n",
      "        takes j for DOY returns eqation of time in minuets\n",
      "    \n",
      "    fresnels3(theta1, theta2)\n",
      "        fresnel's equation\n",
      "\n",
      "FILE\n",
      "    /home/emmamarshall/Desktop/courses/optics/problem_sets/optics_functions.py\n",
      "\n",
      "\n"
     ]
    }
   ],
   "source": [
    "help(optics_functions)"
   ]
  },
  {
   "cell_type": "code",
   "execution_count": null,
   "id": "55aa5215-7e2c-4d2f-95b3-adae8ae4d100",
   "metadata": {},
   "outputs": [],
   "source": []
  }
 ],
 "metadata": {
  "kernelspec": {
   "display_name": "Python 3 (ipykernel)",
   "language": "python",
   "name": "python3"
  },
  "language_info": {
   "codemirror_mode": {
    "name": "ipython",
    "version": 3
   },
   "file_extension": ".py",
   "mimetype": "text/x-python",
   "name": "python",
   "nbconvert_exporter": "python",
   "pygments_lexer": "ipython3",
   "version": "3.10.6"
  }
 },
 "nbformat": 4,
 "nbformat_minor": 5
}
