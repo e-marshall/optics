{
 "cells": [
  {
   "cell_type": "markdown",
   "id": "d56e8842-e41a-47cb-8979-38f6c9bdae89",
   "metadata": {},
   "source": [
    "# Problem set 1 \n",
    "\n",
    "Emma Marshall <br>\n",
    "9/13/2022"
   ]
  },
  {
   "cell_type": "markdown",
   "id": "6406457e-d4e6-456c-bfa2-b99d742ac1ce",
   "metadata": {
    "jp-MarkdownHeadingCollapsed": true,
    "tags": []
   },
   "source": [
    "## Importing packages and defining functions: "
   ]
  },
  {
   "cell_type": "code",
   "execution_count": 2,
   "id": "26b54a5b-7e6a-4a8a-96f9-6404768a0540",
   "metadata": {},
   "outputs": [],
   "source": [
    "import numpy as np\n",
    "import math\n",
    "import pint\n",
    "import datetime as dt\n",
    "\n",
    "from pint import UnitRegistry\n",
    "\n",
    "ureg = UnitRegistry()"
   ]
  },
  {
   "cell_type": "code",
   "execution_count": 3,
   "id": "81cdc762-1aa6-439d-b8c6-0ccb886f0a94",
   "metadata": {},
   "outputs": [],
   "source": [
    "def sci_notation(input_quantity):\n",
    "    \n",
    "    return '{:.3E}'.format(input_quantity)"
   ]
  },
  {
   "cell_type": "code",
   "execution_count": 4,
   "id": "ae7f0a89-2c21-4591-8715-a10ee510254a",
   "metadata": {},
   "outputs": [],
   "source": [
    "def calc_irradiance(d, radiant_flux):\n",
    "\n",
    "    sigma = 4*np.pi*(d**2)\n",
    "    print(sci_notation(sigma))\n",
    "    irradiance = radiant_flux / sigma\n",
    "    \n",
    "    return irradiance"
   ]
  },
  {
   "cell_type": "code",
   "execution_count": 45,
   "id": "871f8b67-92c9-4505-b144-dcf9aaffb732",
   "metadata": {},
   "outputs": [],
   "source": [
    "def calc_declination(j):\n",
    "    '''takes j for day of year, returns declination angle in degrees'''\n",
    "    delta = 23.45*math.cos(math.radians((360*(j-172))/365))\n",
    "    \n",
    "    return delta"
   ]
  },
  {
   "cell_type": "code",
   "execution_count": 46,
   "id": "9fb9bbe2-34eb-48a9-b119-3a53240759ee",
   "metadata": {},
   "outputs": [],
   "source": [
    "def calc_zenith(delta, beta, hour_angle):\n",
    "    '''takes declination, beta and hour angle values in degrees, returns zenith angle value in degrees'''\n",
    "    cos_theta  = ((math.sin(math.radians(delta)))*(math.sin(math.radians(beta)))) + \\\n",
    "    (math.cos(math.radians(delta))*(math.cos(math.radians(beta))) * (math.cos(math.radians(hour_angle))))\n",
    "    \n",
    "    theta_deg = math.degrees(math.acos(cos_theta))\n",
    "    \n",
    "    return theta_deg\n",
    "     "
   ]
  },
  {
   "cell_type": "code",
   "execution_count": 47,
   "id": "35ee1550-1509-4489-82bd-aebbc413608c",
   "metadata": {},
   "outputs": [],
   "source": [
    "def calc_azimuth(delta, beta, hour_angle):\n",
    "    '''takes declination, beta and hour angle values in degrees, returns azimuth angle value in degrees'''\n",
    "    tan_phi = (math.cos(math.radians(delta))* math.sin(math.radians(hour_angle)))/ \\\n",
    "    ((math.cos(math.radians(delta)) * math.sin(math.radians(beta))* math.cos(math.radians(hour_angle))) - \\\n",
    "     (math.sin(math.radians(delta))*math.cos(math.radians(beta))))\n",
    "    \n",
    "    phi_deg = math.degrees(math.atan(tan_phi))\n",
    "     \n",
    "    return phi_deg\n",
    "    "
   ]
  },
  {
   "cell_type": "code",
   "execution_count": 48,
   "id": "ddca72f3-fade-411d-8769-96791c82e93b",
   "metadata": {},
   "outputs": [],
   "source": [
    "def equation_of_time(j):\n",
    "    '''takes j for DOY returns eqation of time in minuets'''\n",
    "    b = 360*(j-81) /365\n",
    "    \n",
    "    et = (9.87 * math.sin(math.radians(2*b))) - (7.53*math.cos(math.radians(b))) - (1.5 * math.sin(math.radians(b)))\n",
    "    \n",
    "    return et"
   ]
  },
  {
   "cell_type": "markdown",
   "id": "5999d476-fda2-4c1a-8e94-4229d1d68c5c",
   "metadata": {
    "jp-MarkdownHeadingCollapsed": true,
    "tags": []
   },
   "source": [
    "## Problem 1\n",
    "\n",
    "**1. Convert 136 THz to wavelength in μm. What name do we give this spectral region?**\n",
    "\n",
    "c = v * lambda\n",
    "\n",
    "lambda = c / v\n",
    "\n",
    "136 THz = 136 x 10^12 Hz = 136 * 10^12 s^-1"
   ]
  },
  {
   "cell_type": "code",
   "execution_count": 39,
   "id": "c660f7ec-61b1-4059-a0d0-285d0a1a5fd1",
   "metadata": {},
   "outputs": [],
   "source": [
    "c = 3e8 *ureg.meters / ureg.seconds\n",
    "v1 = 136e12 / ureg.seconds\n"
   ]
  },
  {
   "cell_type": "code",
   "execution_count": 28,
   "id": "296c405f-0be9-440d-91c9-d029a80c0fda",
   "metadata": {},
   "outputs": [
    {
     "data": {
      "text/html": [
       "2.2058823529411763×10<sup>-6</sup> meter"
      ],
      "text/latex": [
       "$2.2058823529411763\\times 10^{-6}\\ \\mathrm{meter}$"
      ],
      "text/plain": [
       "2.2058823529411763e-06 <Unit('meter')>"
      ]
     },
     "execution_count": 28,
     "metadata": {},
     "output_type": "execute_result"
    }
   ],
   "source": [
    "lambda_1 = c/v1\n",
    "lambda_1"
   ]
  },
  {
   "cell_type": "markdown",
   "id": "c8482d6a-7dd4-4023-8584-54e4283b31f3",
   "metadata": {},
   "source": [
    "2.205 * 10^-6 m = **2.2 um SWIR region of EM spectrum**"
   ]
  },
  {
   "cell_type": "markdown",
   "id": "8095c5ce-b02d-4f56-a601-fac4edc03ca2",
   "metadata": {
    "jp-MarkdownHeadingCollapsed": true,
    "tags": []
   },
   "source": [
    "## Problem 2\n",
    "\n",
    "**2. Convert 1150 nm to frequency (in THz) and to wavenumber (in cm-1). What name do we give\n",
    "this spectral region?**\n",
    "\n",
    "v = c / lambda"
   ]
  },
  {
   "cell_type": "code",
   "execution_count": 29,
   "id": "cbed9aa8-089f-4247-9b0d-ac310e13163a",
   "metadata": {},
   "outputs": [
    {
     "data": {
      "text/html": [
       "1.15×10<sup>-6</sup> meter"
      ],
      "text/latex": [
       "$1.15\\times 10^{-6}\\ \\mathrm{meter}$"
      ],
      "text/plain": [
       "1.15e-06 <Unit('meter')>"
      ]
     },
     "execution_count": 29,
     "metadata": {},
     "output_type": "execute_result"
    }
   ],
   "source": [
    "lambda_2 = 1150e-9 *ureg.meters\n",
    "lambda_2"
   ]
  },
  {
   "cell_type": "code",
   "execution_count": 31,
   "id": "15d00767-afee-4b07-80ff-e02bbcd9b033",
   "metadata": {},
   "outputs": [
    {
     "data": {
      "text/plain": [
       "'2.609E+14 / second'"
      ]
     },
     "execution_count": 31,
     "metadata": {},
     "output_type": "execute_result"
    }
   ],
   "source": [
    "v_2 = c / lambda_2\n",
    "sci_notation(v_2)"
   ]
  },
  {
   "cell_type": "markdown",
   "id": "cd71c529-838e-4cdd-9d98-31de0346849f",
   "metadata": {},
   "source": [
    "2.609 * 10^14 Hz = **261 THz SWIR region of EM spectrum**\n",
    "\n",
    "now calculate wavenumber:\n",
    "\n",
    "lambda = 1150 * 10^-9 m (* 100 cm/m) = 1150 * 10 ^-7 cm\n",
    "\n",
    "**wavenumber = 1 / 1150 * 10^-7cm = 1/1.15 * 10^-4 cm**"
   ]
  },
  {
   "cell_type": "markdown",
   "id": "41e9f9c8-9998-47e6-9cd1-a2041372df37",
   "metadata": {
    "jp-MarkdownHeadingCollapsed": true,
    "tags": []
   },
   "source": [
    "## Problem 3\n",
    "\n",
    "3. Kopp and Lean (2011) found that the sunspot cycle minimum value for exoatmospheric solar \n",
    "irradiance (E0) is 1361 Wm-2 at the mean Earth-sun distance of 1.496 x 1011 m. <br>\n",
    "    a. Based on this value of E0, what is the radiant flux (in Watts) of the sun? Hint: It’s a big\n",
    "number. <br>\n",
    "    b. What is exoatmospheric solar irradiance at perihelion (1.471 x 1011m)? <br>\n",
    "    c. What is exoatmospheric solar irradiance at aphelion (1.521 x 1011m)? <br>"
   ]
  },
  {
   "cell_type": "markdown",
   "id": "365584b1-7eab-49ee-904f-e508e5f8c006",
   "metadata": {},
   "source": [
    "###     a. Based on this value of E0, what is the radiant flux (in Watts) of the sun? Hint: It’s a big number. "
   ]
  },
  {
   "cell_type": "code",
   "execution_count": 38,
   "id": "3cd7bff0-9f20-4496-b610-01e96ec6d6f1",
   "metadata": {},
   "outputs": [
    {
     "name": "stdout",
     "output_type": "stream",
     "text": [
      "1.496E+11 meter\n",
      "1361.0 watt / meter ** 2\n"
     ]
    }
   ],
   "source": [
    "e_S_mean = 1.496e11 * ureg.meters\n",
    "print(sci_notation(e_S_mean))\n",
    "\n",
    "toa_E = 1361 *ureg.watts / (ureg.meters**2)\n",
    "print(toa_E)"
   ]
  },
  {
   "cell_type": "code",
   "execution_count": 33,
   "id": "90b2f8ac-6344-4b78-9e4e-a327facf254d",
   "metadata": {},
   "outputs": [
    {
     "data": {
      "text/html": [
       "2.8123738496865657×10<sup>23</sup> meter<sup>2</sup>"
      ],
      "text/latex": [
       "$2.8123738496865657\\times 10^{23}\\ \\mathrm{meter}^{2}$"
      ],
      "text/plain": [
       "2.8123738496865657e+23 <Unit('meter ** 2')>"
      ]
     },
     "execution_count": 33,
     "metadata": {},
     "output_type": "execute_result"
    }
   ],
   "source": [
    "sigma = 4*np.pi * (e_S_mean**2)\n",
    "sigma"
   ]
  },
  {
   "cell_type": "code",
   "execution_count": 39,
   "id": "997d966d-3d99-4bdf-8af3-fc7cb265a80d",
   "metadata": {},
   "outputs": [
    {
     "name": "stdout",
     "output_type": "stream",
     "text": [
      "Radiant flux of the sun is:  3.827640809423416e+26 watt\n"
     ]
    }
   ],
   "source": [
    "radiant_flux = toa_E * sigma\n",
    "print('Radiant flux of the sun is: ', radiant_flux)"
   ]
  },
  {
   "cell_type": "markdown",
   "id": "2786da0c-796b-40a4-8df4-57cadece8fc9",
   "metadata": {},
   "source": [
    "###     b. What is exoatmospheric solar irradiance at perihelion (1.471 x 1011m)? <br>\n",
    "\n",
    "E = radiant flux / sigma\n",
    "\n",
    "Have radiant flux, want to calculate E for sigma when d = d_perihelion\n"
   ]
  },
  {
   "cell_type": "code",
   "execution_count": 41,
   "id": "80dcabb1-9f0e-46b2-bacd-f4ff48cbbc8a",
   "metadata": {},
   "outputs": [
    {
     "name": "stdout",
     "output_type": "stream",
     "text": [
      "exoatmospheric solar irradiance at perihelion is:  1407.6541557351024 watt / meter ** 2\n"
     ]
    }
   ],
   "source": [
    "perihelion_d = 1.471e11 * ureg.meters\n",
    "\n",
    "sci_notation(perihelion_d)\n",
    "\n",
    "sigma_perihelion = 4*np.pi*(perihelion_d**2)\n",
    "\n",
    "print('exoatmospheric solar irradiance at perihelion is: ', radiant_flux / sigma_perihelion)"
   ]
  },
  {
   "cell_type": "markdown",
   "id": "3fc909e1-6e16-4c68-9252-7b75700ca0f6",
   "metadata": {},
   "source": [
    "###     c. What is exoatmospheric solar irradiance at aphelion (1.521 x 1011m)? <br>\n",
    "\n",
    "E = radiant_flux/sigma\n",
    "\n",
    "calculate E for sigma when d = d_aphelion"
   ]
  },
  {
   "cell_type": "code",
   "execution_count": 44,
   "id": "bbad0536-b431-4703-ad0a-4988e8f22c99",
   "metadata": {},
   "outputs": [
    {
     "name": "stdout",
     "output_type": "stream",
     "text": [
      "exoatmospheric solar irradiance at aphelion is:  1316.6273857859353 watt / meter ** 2\n"
     ]
    }
   ],
   "source": [
    "aphelion_d = 1.521e11 * ureg.meters\n",
    "\n",
    "sigma_aphelion = 4*np.pi*(aphelion_d**2)\n",
    "\n",
    "print('exoatmospheric solar irradiance at aphelion is: ', radiant_flux / sigma_aphelion)"
   ]
  },
  {
   "cell_type": "markdown",
   "id": "e0f0ffe6-ff7c-408c-984d-c85c3a4c9b3b",
   "metadata": {
    "tags": []
   },
   "source": [
    "## Problem 4\n",
    "\n",
    "```{note} \n",
    "I've been playing around with a python package that handles units but don't have it quite figured out yet - the units on some of the quantities with `ureg.XXXX` aren't always correct! The units on paper should be\n",
    "```"
   ]
  },
  {
   "cell_type": "markdown",
   "id": "675ff692-a7be-4caa-89ad-b33f5ae379fd",
   "metadata": {},
   "source": [
    "1. Convert wavelength to m"
   ]
  },
  {
   "cell_type": "markdown",
   "id": "a0b9a1ee-7ac4-489f-8f74-023fcde2e41a",
   "metadata": {},
   "source": [
    "0.8 um = 0.8 * 10^-6 m"
   ]
  },
  {
   "cell_type": "code",
   "execution_count": 42,
   "id": "da5deb40-15a1-42ce-8c4e-f01b24eea130",
   "metadata": {},
   "outputs": [
    {
     "data": {
      "text/html": [
       "8×10<sup>-7</sup> meter"
      ],
      "text/latex": [
       "$8\\times 10^{-7}\\ \\mathrm{meter}$"
      ],
      "text/plain": [
       "8e-07 <Unit('meter')>"
      ]
     },
     "execution_count": 42,
     "metadata": {},
     "output_type": "execute_result"
    }
   ],
   "source": [
    "wavelength = 0.8e-6 * ureg.meters\n",
    "wavelength"
   ]
  },
  {
   "cell_type": "markdown",
   "id": "e24dc96c-2219-4f45-b27d-c33dbb13a2a6",
   "metadata": {},
   "source": [
    "2. convert radiance from W cm-2 sr-1 nm-1 to W m-2 sr-1 m-1"
   ]
  },
  {
   "cell_type": "code",
   "execution_count": 43,
   "id": "55032a51-b340-4df4-ae0e-88443295cfae",
   "metadata": {},
   "outputs": [
    {
     "data": {
      "text/html": [
       "2.1×10<sup>16</sup> meter<sup>3</sup> watt/(centimeter<sup>2</sup> nanometer steradian)"
      ],
      "text/latex": [
       "$2.1\\times 10^{16}\\ \\frac{\\mathrm{meter}^{3} \\cdot \\mathrm{watt}}{\\left(\\mathrm{centimeter}^{2} \\cdot \\mathrm{nanometer} \\cdot \\mathrm{steradian}\\right)}$"
      ],
      "text/plain": [
       "2.1e+16 <Unit('meter ** 3 * watt / centimeter ** 2 / nanometer / steradian')>"
      ]
     },
     "execution_count": 43,
     "metadata": {},
     "output_type": "execute_result"
    }
   ],
   "source": [
    "L_lambda = 2.1e3 *ureg.watts / (ureg.centimeters**2) / ureg.nanometers / ureg.steradian\n",
    "L_lambda / 0.0001 *ureg.meters**2 / 1e-9 *ureg.meter"
   ]
  },
  {
   "cell_type": "markdown",
   "id": "d27f5ecb-9a2c-44e1-86cf-876aacc71744",
   "metadata": {},
   "source": [
    "L_lambda = 2.1 * 10^16 W m^-2 sr^-1 m^-1"
   ]
  },
  {
   "cell_type": "markdown",
   "id": "3833edda-6bc3-4cc8-93a5-1fcd1a6db23e",
   "metadata": {},
   "source": [
    "3. Use eqn 1.7:\n",
    "\n",
    "L_v = (L_lambda * (lambda^2) )/c"
   ]
  },
  {
   "cell_type": "code",
   "execution_count": 44,
   "id": "e9845bcd-76ab-4502-9d8c-ed05ecededfd",
   "metadata": {},
   "outputs": [
    {
     "data": {
      "text/html": [
       "4.479999999999999×10<sup>-18</sup> meter second watt/(centimeter<sup>2</sup> nanometer steradian)"
      ],
      "text/latex": [
       "$4.479999999999999\\times 10^{-18}\\ \\frac{\\mathrm{meter} \\cdot \\mathrm{second} \\cdot \\mathrm{watt}}{\\left(\\mathrm{centimeter}^{2} \\cdot \\mathrm{nanometer} \\cdot \\mathrm{steradian}\\right)}$"
      ],
      "text/plain": [
       "4.479999999999999e-18 <Unit('meter * second * watt / centimeter ** 2 / nanometer / steradian')>"
      ]
     },
     "execution_count": 44,
     "metadata": {},
     "output_type": "execute_result"
    }
   ],
   "source": [
    "L_v = L_lambda * (wavelength**2) / c\n",
    "L_v"
   ]
  },
  {
   "cell_type": "markdown",
   "id": "8d53ace9-d182-4c80-ad2f-cffbb85e1de9",
   "metadata": {},
   "source": [
    "^^ Units in the above quantity (`L_v`) incorrect <br>\n",
    "answer should be: **L_v  = 4.48 * 10^-5 W m^-2 sr^-1 s**"
   ]
  },
  {
   "cell_type": "code",
   "execution_count": 18,
   "id": "b0c636d1-deb1-4389-b704-3fdf44ecc1eb",
   "metadata": {},
   "outputs": [
    {
     "data": {
      "text/plain": [
       "'2.100E+16'"
      ]
     },
     "execution_count": 18,
     "metadata": {},
     "output_type": "execute_result"
    }
   ],
   "source": [
    "sci_notation(2.1e3 / (0.01**2) / 1e-9)"
   ]
  },
  {
   "cell_type": "code",
   "execution_count": 21,
   "id": "d4c35a4c-fcd4-4897-9fe7-ee3480e42632",
   "metadata": {},
   "outputs": [
    {
     "data": {
      "text/plain": [
       "'6.400E-13'"
      ]
     },
     "execution_count": 21,
     "metadata": {},
     "output_type": "execute_result"
    }
   ],
   "source": [
    "sci_notation((0.8e-6)**2)"
   ]
  },
  {
   "cell_type": "code",
   "execution_count": 20,
   "id": "29868be1-3bc9-456a-a191-a90bbe15ae26",
   "metadata": {},
   "outputs": [
    {
     "data": {
      "text/plain": [
       "4.48"
      ]
     },
     "execution_count": 20,
     "metadata": {},
     "output_type": "execute_result"
    }
   ],
   "source": [
    "2.1*6.4/3"
   ]
  },
  {
   "cell_type": "markdown",
   "id": "09484d11-61a8-4faf-81b9-2ffddf068e8f",
   "metadata": {
    "tags": []
   },
   "source": [
    "## Problem 5\n",
    "\n",
    "39 deg N, 110.15 deg W <br>\n",
    "10/7/2022"
   ]
  },
  {
   "cell_type": "markdown",
   "id": "2520b9fe-f4fc-47ab-b8d8-2dc7e5613c42",
   "metadata": {},
   "source": [
    "### a. solar zenith and azimuth angles at solar noon"
   ]
  },
  {
   "cell_type": "code",
   "execution_count": 28,
   "id": "44b65612-034f-4747-99d7-ee7a33091c37",
   "metadata": {},
   "outputs": [],
   "source": [
    "beta_gr = 39\n",
    "lambda_gr = -110.15\n",
    "j_oct7 = 31 + 28 + 31 + 30 + 31 + 30 + 31 + 31 +30 + 7"
   ]
  },
  {
   "cell_type": "code",
   "execution_count": 29,
   "id": "92a8f305-af6a-47b8-9008-3cf89d83101a",
   "metadata": {},
   "outputs": [
    {
     "data": {
      "text/plain": [
       "-6.6682229417395344"
      ]
     },
     "execution_count": 29,
     "metadata": {},
     "output_type": "execute_result"
    }
   ],
   "source": [
    "delta_oct7 = calc_declination(j_oct7)\n",
    "delta_oct7"
   ]
  },
  {
   "cell_type": "code",
   "execution_count": 30,
   "id": "2b947dd5-73e1-4596-9207-0b99fb150574",
   "metadata": {},
   "outputs": [
    {
     "data": {
      "text/plain": [
       "45.668222941739536"
      ]
     },
     "execution_count": 30,
     "metadata": {},
     "output_type": "execute_result"
    }
   ],
   "source": [
    "theta_oct7_solar_noon = calc_zenith(delta_oct7, beta_gr, 0)\n",
    "theta_oct7_solar_noon"
   ]
  },
  {
   "cell_type": "code",
   "execution_count": 31,
   "id": "61af0772-009a-4baa-868c-164e4e44a8da",
   "metadata": {},
   "outputs": [
    {
     "data": {
      "text/plain": [
       "0.0"
      ]
     },
     "execution_count": 31,
     "metadata": {},
     "output_type": "execute_result"
    }
   ],
   "source": [
    "phi_oct7_solar_noon = calc_azimuth(delta_oct7, beta_gr, 0)\n",
    "phi_oct7_solar_noon"
   ]
  },
  {
   "cell_type": "markdown",
   "id": "00dd8a74-8b49-44a9-8394-c10f44f18e8a",
   "metadata": {},
   "source": [
    "### b. solar zentih and azimuth angles at 6:30 pm"
   ]
  },
  {
   "cell_type": "markdown",
   "id": "49feaede-ea52-4a86-8b6f-e67276e725de",
   "metadata": {},
   "source": [
    "use equation of time, DST, position within time zone to find time of solar noon, find difference btw solar noon time and 6:30 pm to find hour angle, solve for zenith, azimuth:"
   ]
  },
  {
   "cell_type": "code",
   "execution_count": 23,
   "id": "321c1ecd-d7e5-42fa-bf1a-4413f4bc6e43",
   "metadata": {},
   "outputs": [
    {
     "data": {
      "text/plain": [
       "12.958750209019716"
      ]
     },
     "execution_count": 23,
     "metadata": {},
     "output_type": "execute_result"
    }
   ],
   "source": [
    "et_oct7 = equation_of_time(j_oct7)\n",
    "et_oct7"
   ]
  },
  {
   "cell_type": "code",
   "execution_count": 25,
   "id": "c055d97a-d877-4880-8f3e-1b2af90bc029",
   "metadata": {},
   "outputs": [
    {
     "data": {
      "text/plain": [
       "datetime.timedelta(seconds=777, microseconds=525013)"
      ]
     },
     "execution_count": 25,
     "metadata": {},
     "output_type": "execute_result"
    }
   ],
   "source": [
    "noon = dt.time(hour=12)\n",
    "noon \n",
    "et_time = dt.timedelta(minutes = et_oct7)\n",
    "et_time"
   ]
  },
  {
   "cell_type": "code",
   "execution_count": 26,
   "id": "09c2a053-d62a-4d89-acb0-038f5a1adb44",
   "metadata": {},
   "outputs": [
    {
     "data": {
      "text/plain": [
       "'12:58.0'"
      ]
     },
     "execution_count": 26,
     "metadata": {},
     "output_type": "execute_result"
    }
   ],
   "source": [
    "'12:{}'.format(np.round(60*float(str(et_oct7)[2:]))) #this is the amount of minutes ahead of noon at which solar noon occurs"
   ]
  },
  {
   "cell_type": "markdown",
   "id": "b3c6aaee-a4d1-424a-bffd-f80a6733fb97",
   "metadata": {},
   "source": [
    "So before taking into account DST, position within time zone, solar noon occurs at 11:47:02\n",
    "\n",
    "After DST: 12:47:02"
   ]
  },
  {
   "cell_type": "markdown",
   "id": "4d35da5b-82ea-49a5-97b4-6df70e5256e0",
   "metadata": {},
   "source": [
    "taking into account position within time zone:"
   ]
  },
  {
   "cell_type": "code",
   "execution_count": 27,
   "id": "96b2e4d8-2d9d-4386-bd1b-c14ac8a389a3",
   "metadata": {},
   "outputs": [],
   "source": [
    "central_meridian = 105"
   ]
  },
  {
   "cell_type": "code",
   "execution_count": 37,
   "id": "baf84068-3467-4d0e-ba59-f5be4069dd07",
   "metadata": {},
   "outputs": [
    {
     "data": {
      "text/html": [
       "21.0 minute"
      ],
      "text/latex": [
       "$21.0\\ \\mathrm{minute}$"
      ],
      "text/plain": [
       "21.0 <Unit('minute')>"
      ]
     },
     "execution_count": 37,
     "metadata": {},
     "output_type": "execute_result"
    }
   ],
   "source": [
    "longitude_offset = np.abs(lambda_gr) - central_meridian\n",
    "\n",
    "longitude_adjustment = np.round(longitude_offset * 4) *ureg.minutes\n",
    "longitude_adjustment"
   ]
  },
  {
   "cell_type": "markdown",
   "id": "52fe6cf0-a08f-480d-a21e-0d0ee4621132",
   "metadata": {},
   "source": [
    "Solar noon in Green River on October 7: 12:47:02 + 21 minutes = 1:08:02 pm"
   ]
  },
  {
   "cell_type": "markdown",
   "id": "4d3c3ce5-9804-449c-9bff-1a7449e6513f",
   "metadata": {},
   "source": [
    "Time difference between solar noon, target time (6:30 pm):\n",
    "\n",
    "6 hr 21 min 58 sec <br>\n",
    "as a decimal: "
   ]
  },
  {
   "cell_type": "code",
   "execution_count": 38,
   "id": "6975b0c3-f96c-4175-a2b4-cc169e21fdaf",
   "metadata": {},
   "outputs": [
    {
     "data": {
      "text/plain": [
       "5.366666666666666"
      ]
     },
     "execution_count": 38,
     "metadata": {},
     "output_type": "execute_result"
    }
   ],
   "source": [
    "5+(22/60)"
   ]
  },
  {
   "cell_type": "markdown",
   "id": "b6244f60-3ff5-4df8-9095-c164cd2c780c",
   "metadata": {},
   "source": [
    "Now calculate hour angle: "
   ]
  },
  {
   "cell_type": "code",
   "execution_count": 40,
   "id": "54796297-0577-48db-b64c-c67d443d246a",
   "metadata": {},
   "outputs": [
    {
     "data": {
      "text/html": [
       "-80.5 degree"
      ],
      "text/latex": [
       "$-80.5\\ \\mathrm{degree}$"
      ],
      "text/plain": [
       "-80.5 <Unit('degree')>"
      ]
     },
     "execution_count": 40,
     "metadata": {},
     "output_type": "execute_result"
    }
   ],
   "source": [
    "hour_angle_time = (5 + (22/60)) * ureg.hours\n",
    "\n",
    "hour_angle = - (hour_angle_time * 15 * ureg.degrees / ureg.hours)\n",
    "hour_angle # negative because pm"
   ]
  },
  {
   "cell_type": "code",
   "execution_count": 41,
   "id": "3fc0b3aa-a673-4dfb-94b0-4b774d3d6d76",
   "metadata": {},
   "outputs": [],
   "source": [
    "gr_zenith_6pm = calc_zenith(delta_oct7, beta_gr, -80.5)"
   ]
  },
  {
   "cell_type": "code",
   "execution_count": 42,
   "id": "601e38a1-4004-4f49-b671-9a6c228749e2",
   "metadata": {},
   "outputs": [
    {
     "data": {
      "text/plain": [
       "86.88605907946422"
      ]
     },
     "execution_count": 42,
     "metadata": {},
     "output_type": "execute_result"
    }
   ],
   "source": [
    "gr_zenith_6pm"
   ]
  },
  {
   "cell_type": "code",
   "execution_count": 43,
   "id": "7ecdcdf0-2845-4ebd-894f-b085840cb314",
   "metadata": {},
   "outputs": [],
   "source": [
    "gr_azimuth_6pm = calc_azimuth(delta_oct7, beta_gr, -80.5)"
   ]
  },
  {
   "cell_type": "code",
   "execution_count": 44,
   "id": "4bdeef8d-1ad6-4d4a-b979-fb09780843e5",
   "metadata": {},
   "outputs": [
    {
     "data": {
      "text/plain": [
       "-78.83160146544657"
      ]
     },
     "execution_count": 44,
     "metadata": {},
     "output_type": "execute_result"
    }
   ],
   "source": [
    "gr_azimuth_6pm"
   ]
  },
  {
   "cell_type": "markdown",
   "id": "ac3ea8ca-a851-46a1-ac5d-cad50afed674",
   "metadata": {},
   "source": [
    "### c. ratio of irradiance at 6:30 pm to irradiance at solar noon\n",
    "\n",
    "Use lambert's cosine law\n",
    "\n",
    "E_theta = E_nought(cos_theta)"
   ]
  },
  {
   "cell_type": "code",
   "execution_count": 45,
   "id": "c0e8d639-c6c0-4140-bfd5-46d9e7f733e3",
   "metadata": {},
   "outputs": [
    {
     "data": {
      "text/plain": [
       "0.054321770295687744"
      ]
     },
     "execution_count": 45,
     "metadata": {},
     "output_type": "execute_result"
    }
   ],
   "source": [
    "math.cos(math.radians(gr_zenith_6pm))"
   ]
  },
  {
   "cell_type": "markdown",
   "id": "58f91454-9883-4d4a-a2c7-2fbaa3f30010",
   "metadata": {
    "tags": []
   },
   "source": [
    "## Problem 6\n",
    "\n",
    "Assuming same date, loc as prob 5. E_10am = 395 Wm2 <br>\n",
    "Find E_2pm on 20 deg S-facing slope"
   ]
  },
  {
   "cell_type": "code",
   "execution_count": 57,
   "id": "3cd9cf31-a64d-4174-85b0-262ef0fb2d6c",
   "metadata": {},
   "outputs": [
    {
     "data": {
      "text/html": [
       "395.0 watt/meter<sup>2</sup>"
      ],
      "text/latex": [
       "$395.0\\ \\frac{\\mathrm{watt}}{\\mathrm{meter}^{2}}$"
      ],
      "text/plain": [
       "395.0 <Unit('watt / meter ** 2')>"
      ]
     },
     "execution_count": 57,
     "metadata": {},
     "output_type": "execute_result"
    }
   ],
   "source": [
    "E_10am = 395 *ureg.watts / ureg.meters**2\n",
    "E_10am"
   ]
  },
  {
   "cell_type": "markdown",
   "id": "0f2c67ae-abc8-4f0f-ac2e-ebe294bd3410",
   "metadata": {},
   "source": [
    "1. Use Lambert's cosine law to find irradiance at solar noon (first need to find theta_10am)\n",
    "\n",
    "Time difference btw 10 am, 1:08:02 pm = 3:08:02\n",
    "\n",
    "as a decimal:"
   ]
  },
  {
   "cell_type": "code",
   "execution_count": 58,
   "id": "37e0ee54-d90b-44fc-a0c9-7b097bf35b3b",
   "metadata": {},
   "outputs": [],
   "source": [
    "time_diff_10a = 3 + (8/60)"
   ]
  },
  {
   "cell_type": "code",
   "execution_count": 59,
   "id": "472badef-2bff-4cbb-8825-eeec9d39ff1b",
   "metadata": {},
   "outputs": [
    {
     "data": {
      "text/plain": [
       "3.1333333333333333"
      ]
     },
     "execution_count": 59,
     "metadata": {},
     "output_type": "execute_result"
    }
   ],
   "source": [
    "time_diff_10a"
   ]
  },
  {
   "cell_type": "code",
   "execution_count": 60,
   "id": "44f1f896-0b7a-4d95-9157-e6ca5f4a0246",
   "metadata": {},
   "outputs": [],
   "source": [
    "hour_angle_10a = time_diff_10a * 15 * ureg.degrees"
   ]
  },
  {
   "cell_type": "code",
   "execution_count": 61,
   "id": "1d300ccd-e977-425a-b8df-24fe5e6aacf7",
   "metadata": {},
   "outputs": [
    {
     "data": {
      "text/html": [
       "47.0 degree"
      ],
      "text/latex": [
       "$47.0\\ \\mathrm{degree}$"
      ],
      "text/plain": [
       "47.0 <Unit('degree')>"
      ]
     },
     "execution_count": 61,
     "metadata": {},
     "output_type": "execute_result"
    }
   ],
   "source": [
    "hour_angle_10a"
   ]
  },
  {
   "cell_type": "markdown",
   "id": "8d8e658a-f988-4506-8a4b-3eb20ca82e6a",
   "metadata": {},
   "source": [
    "Now can calculate zenith angle at 10 am:"
   ]
  },
  {
   "cell_type": "code",
   "execution_count": 63,
   "id": "0b265fac-8437-483e-bbed-3e4493234eba",
   "metadata": {},
   "outputs": [
    {
     "data": {
      "text/html": [
       "63.04116471848333 degree"
      ],
      "text/latex": [
       "$63.04116471848333\\ \\mathrm{degree}$"
      ],
      "text/plain": [
       "63.04116471848333 <Unit('degree')>"
      ]
     },
     "execution_count": 63,
     "metadata": {},
     "output_type": "execute_result"
    }
   ],
   "source": [
    "gr_theta_10a = calc_zenith(delta_oct7, beta_gr, 47) * ureg.degrees\n",
    "gr_theta_10a"
   ]
  },
  {
   "cell_type": "markdown",
   "id": "c47cf440-ba0d-4e07-84aa-d6969357e092",
   "metadata": {},
   "source": [
    "Irradiance at solar noon:"
   ]
  },
  {
   "cell_type": "code",
   "execution_count": 67,
   "id": "bac281d4-37f4-4e1b-886d-a1ab76d55cae",
   "metadata": {},
   "outputs": [
    {
     "data": {
      "text/html": [
       "871.2861294661369 watt/meter<sup>2</sup>"
      ],
      "text/latex": [
       "$871.2861294661369\\ \\frac{\\mathrm{watt}}{\\mathrm{meter}^{2}}$"
      ],
      "text/plain": [
       "871.2861294661369 <Unit('watt / meter ** 2')>"
      ]
     },
     "execution_count": 67,
     "metadata": {},
     "output_type": "execute_result"
    }
   ],
   "source": [
    "E_solar_noon = E_10am / math.cos(math.radians(63.041))\n",
    "E_solar_noon"
   ]
  },
  {
   "cell_type": "markdown",
   "id": "9ee19b4d-c71b-4af4-8230-951526bc5216",
   "metadata": {},
   "source": [
    "Will use the equation for cos(theta) of a sloped surface to solve for irradiance at the sloped surface at 2pm. First need zenith and azimuth at 2pm\n",
    "\n",
    "time difference btw 2pm, solar noon = 51 mins 58 sec. as a decimal: "
   ]
  },
  {
   "cell_type": "code",
   "execution_count": 77,
   "id": "326096e6-1e3f-457e-a967-5224e69c0405",
   "metadata": {},
   "outputs": [
    {
     "data": {
      "text/html": [
       "13.0 degree"
      ],
      "text/latex": [
       "$13.0\\ \\mathrm{degree}$"
      ],
      "text/plain": [
       "13.0 <Unit('degree')>"
      ]
     },
     "execution_count": 77,
     "metadata": {},
     "output_type": "execute_result"
    }
   ],
   "source": [
    "time_diff_2p = (52/60)\n",
    "hour_angle_2p = time_diff_2p * 15 *ureg.degrees\n",
    "hour_angle_2p #negative because afternoon"
   ]
  },
  {
   "cell_type": "code",
   "execution_count": 78,
   "id": "0b9fd366-ec0e-4129-b06b-e5c873d9a023",
   "metadata": {},
   "outputs": [
    {
     "data": {
      "text/plain": [
       "47.24365317128634"
      ]
     },
     "execution_count": 78,
     "metadata": {},
     "output_type": "execute_result"
    }
   ],
   "source": [
    "theta_2pm = calc_zenith(-6.68, 39, -13)\n",
    "theta_2pm"
   ]
  },
  {
   "cell_type": "code",
   "execution_count": 79,
   "id": "9c29f8ac-3c81-43d8-8e14-a16c93fd537a",
   "metadata": {},
   "outputs": [
    {
     "data": {
      "text/plain": [
       "-17.715438793193172"
      ]
     },
     "execution_count": 79,
     "metadata": {},
     "output_type": "execute_result"
    }
   ],
   "source": [
    "phi_2pm = calc_azimuth(-6.68, 39, -13)\n",
    "phi_2pm"
   ]
  },
  {
   "cell_type": "code",
   "execution_count": 82,
   "id": "86e2ff2f-cec4-4649-b886-bc08f473acd2",
   "metadata": {},
   "outputs": [],
   "source": [
    "slope = 20\n",
    "exposure = 0"
   ]
  },
  {
   "cell_type": "markdown",
   "id": "23fd7cde-ac85-4650-a397-e873f081e47e",
   "metadata": {},
   "source": [
    "Now, use equation for cos(theta) on a sloped surface to solve for cos_theta"
   ]
  },
  {
   "cell_type": "code",
   "execution_count": 81,
   "id": "cdfda4ed-bb2e-4264-a761-3997b9c5edab",
   "metadata": {},
   "outputs": [],
   "source": [
    "def calc_zenith_slope(theta, slope, phi, exposure):\n",
    "    \n",
    "    cos_theta_slope = math.cos(math.radians(theta)) * math.cos(math.radians(slope))  + math.sin(math.radians(theta))*math.sin(math.radians(slope))*math.cos(math.radians(phi - exposure))\n",
    "    \n",
    "    return cos_theta_slope"
   ]
  },
  {
   "cell_type": "code",
   "execution_count": 83,
   "id": "db53f0f6-ddad-4442-890a-f459646433fd",
   "metadata": {},
   "outputs": [
    {
     "data": {
      "text/plain": [
       "0.877159276307219"
      ]
     },
     "execution_count": 83,
     "metadata": {},
     "output_type": "execute_result"
    }
   ],
   "source": [
    "cos_theta_slope = calc_zenith_slope(theta_2pm, slope, phi_2pm, exposure)\n",
    "cos_theta_slope"
   ]
  },
  {
   "cell_type": "code",
   "execution_count": 84,
   "id": "9cc26f23-cc95-4d80-8c13-fa552b351d77",
   "metadata": {},
   "outputs": [
    {
     "data": {
      "text/html": [
       "764.2567107790346 watt/meter<sup>2</sup>"
      ],
      "text/latex": [
       "$764.2567107790346\\ \\frac{\\mathrm{watt}}{\\mathrm{meter}^{2}}$"
      ],
      "text/plain": [
       "764.2567107790346 <Unit('watt / meter ** 2')>"
      ]
     },
     "execution_count": 84,
     "metadata": {},
     "output_type": "execute_result"
    }
   ],
   "source": [
    "E_2pm_slope = E_solar_noon * cos_theta_slope\n",
    "E_2pm_slope"
   ]
  },
  {
   "cell_type": "code",
   "execution_count": null,
   "id": "456a451b-e4bd-4d87-b529-b3ed1e8251f8",
   "metadata": {},
   "outputs": [],
   "source": []
  }
 ],
 "metadata": {
  "kernelspec": {
   "display_name": "Python 3 (ipykernel)",
   "language": "python",
   "name": "python3"
  },
  "language_info": {
   "codemirror_mode": {
    "name": "ipython",
    "version": 3
   },
   "file_extension": ".py",
   "mimetype": "text/x-python",
   "name": "python",
   "nbconvert_exporter": "python",
   "pygments_lexer": "ipython3",
   "version": "3.10.6"
  }
 },
 "nbformat": 4,
 "nbformat_minor": 5
}
