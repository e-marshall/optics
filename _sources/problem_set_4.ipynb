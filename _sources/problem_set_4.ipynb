{
 "cells": [
  {
   "cell_type": "markdown",
   "id": "c78af00a-37c7-4613-91d5-63f72fe4c3b9",
   "metadata": {},
   "source": [
    "# Problem Set 4\n",
    "\n",
    "11/28/2022"
   ]
  },
  {
   "cell_type": "markdown",
   "id": "c334d592-0c84-4336-86d5-ccbdc78fb40f",
   "metadata": {},
   "source": [
    "## 1. Calculate total emittance of a blackbody radiator at 900 K. Calculate wavelength of peak emitted radiance"
   ]
  },
  {
   "cell_type": "code",
   "execution_count": 85,
   "id": "6df0ff4a-e080-4e7d-adee-b803971c20be",
   "metadata": {},
   "outputs": [],
   "source": [
    "import numpy as np\n",
    "import pandas as pd\n",
    "import math"
   ]
  },
  {
   "cell_type": "markdown",
   "id": "afe378a7-a6bd-4692-9f90-b99da5631a99",
   "metadata": {},
   "source": [
    "## a) total emittance across all wavelengths (Stefan-Boltzmann)"
   ]
  },
  {
   "cell_type": "code",
   "execution_count": 86,
   "id": "3cca9fb6-6cd5-452d-9eec-64e9d73d4299",
   "metadata": {},
   "outputs": [],
   "source": [
    "sigma = 5.67e-8\n",
    "T = 900"
   ]
  },
  {
   "cell_type": "code",
   "execution_count": 87,
   "id": "8e6b0c4d-b43c-4cd0-b1e7-633d201f0fd0",
   "metadata": {},
   "outputs": [
    {
     "data": {
      "text/plain": [
       "37200.869999999995"
      ]
     },
     "execution_count": 87,
     "metadata": {},
     "output_type": "execute_result"
    }
   ],
   "source": [
    "M = sigma * T**4\n",
    "M"
   ]
  },
  {
   "cell_type": "markdown",
   "id": "e4704071-62e4-43ee-80c3-bf01315f0352",
   "metadata": {},
   "source": [
    "Total emittance is 37201 W/m2"
   ]
  },
  {
   "cell_type": "markdown",
   "id": "8abfd7e6-332a-4849-9eb9-459654179280",
   "metadata": {},
   "source": [
    "### b) wavelength of peak emittance (Wien's)"
   ]
  },
  {
   "cell_type": "code",
   "execution_count": 88,
   "id": "8f117dc3-5a6f-425a-a8d6-44dc2a64dd43",
   "metadata": {},
   "outputs": [],
   "source": [
    "wiens = 2.8978e-3 #units mK"
   ]
  },
  {
   "cell_type": "code",
   "execution_count": 89,
   "id": "17361655-0d41-4c01-83cf-711f2102e85d",
   "metadata": {},
   "outputs": [
    {
     "data": {
      "text/plain": [
       "3.2197777777777777e-06"
      ]
     },
     "execution_count": 89,
     "metadata": {},
     "output_type": "execute_result"
    }
   ],
   "source": [
    "lambda_max = wiens / T\n",
    "lambda_max "
   ]
  },
  {
   "cell_type": "markdown",
   "id": "f8f98c0a-41a0-4fd9-a5f7-322b0ccdf81f",
   "metadata": {},
   "source": [
    "Wavelength of peak emittance is 3.22 um"
   ]
  },
  {
   "cell_type": "markdown",
   "id": "aeb74042-1311-46e7-9a60-b6bbac4d4ca7",
   "metadata": {},
   "source": [
    "## Problem 2\n",
    "\n",
    "Emissivity of quartis is approx 0.3 at 9 um. Given kinetic temp of 287 K, calculaetd emitted spectral radiance and brightness temperature of quartz at this wavelength"
   ]
  },
  {
   "cell_type": "code",
   "execution_count": 90,
   "id": "0af6d738-6e36-4da7-847f-60b7ec7e9ce2",
   "metadata": {},
   "outputs": [],
   "source": [
    "T_k = 287 #Kelvin\n",
    "e = 0.3\n",
    "lambda_2 = 9e-6 #meters\n",
    "h = 6.626e-34 # Joule seconds\n",
    "c = 3e8 # meters / second\n",
    "k = 1.38e-23 #Joule / Kelvin"
   ]
  },
  {
   "cell_type": "code",
   "execution_count": 91,
   "id": "2ec78fbe-eaf7-481c-83f8-c60679f63267",
   "metadata": {},
   "outputs": [],
   "source": [
    "def calc_emitted_spectral_radiance(e, h, c, k, wavelength, Tk):\n",
    "    \n",
    "    L = e*((2*h*c**2)/((wavelength**5) * (math.exp((h*c)/(k*wavelength*Tk)) - 1)))\n",
    "    return L"
   ]
  },
  {
   "cell_type": "code",
   "execution_count": 92,
   "id": "33cd0d95-a58a-4404-beea-8c45e827f97f",
   "metadata": {},
   "outputs": [],
   "source": [
    "L = calc_emitted_spectral_radiance(0.3, h, c, k, lambda_2, T_k)"
   ]
  },
  {
   "cell_type": "code",
   "execution_count": 93,
   "id": "8eaf7ef9-5575-4780-b388-9f23e572cd65",
   "metadata": {},
   "outputs": [
    {
     "data": {
      "text/plain": [
       "2302474.471191069"
      ]
     },
     "execution_count": 93,
     "metadata": {},
     "output_type": "execute_result"
    }
   ],
   "source": [
    "L"
   ]
  },
  {
   "cell_type": "markdown",
   "id": "16ab82d4-7974-4742-afb3-2e68445f2193",
   "metadata": {},
   "source": [
    "Now, calculate brightness temp"
   ]
  },
  {
   "cell_type": "code",
   "execution_count": 43,
   "id": "654faa43-29bc-4a6f-90e8-32e716d4d991",
   "metadata": {},
   "outputs": [],
   "source": [
    "def calc_brightness_temp(h, c, k, wavelength, Tk, e):\n",
    "    \n",
    "    Tb = (h*c)/(k*wavelength*math.log((math.exp((h*c)/(k*wavelength*Tk)) + e - 1)/e))\n",
    "    return Tb"
   ]
  },
  {
   "cell_type": "code",
   "execution_count": 44,
   "id": "cdbb58c7-0db4-4f34-8bf2-9846dcb0136e",
   "metadata": {},
   "outputs": [
    {
     "data": {
      "text/plain": [
       "236.13204709450392"
      ]
     },
     "execution_count": 44,
     "metadata": {},
     "output_type": "execute_result"
    }
   ],
   "source": [
    "Tb = calc_brightness_temp(h,c,k,lambda_2, T_k, e)\n",
    "Tb"
   ]
  },
  {
   "cell_type": "markdown",
   "id": "a907b746-44ad-4ae0-a56d-e67e240ba3f7",
   "metadata": {},
   "source": [
    "## Problem 3\n",
    "\n",
    "Measured forest radiance is 0.007 Wm-2sr-1nm-1 at 10 um. Emissivity of forest is 0.95, find kinetic temperature"
   ]
  },
  {
   "cell_type": "code",
   "execution_count": 45,
   "id": "09abd226-6a57-4e9b-a948-cd390db7d197",
   "metadata": {},
   "outputs": [],
   "source": [
    "lambda_3 = 1000e-9\n",
    "L_3 = 0.007e-9\n",
    "e_3 = 0.95"
   ]
  },
  {
   "cell_type": "code",
   "execution_count": 46,
   "id": "9b83c868-a3ad-450d-8a5c-da209d40125c",
   "metadata": {},
   "outputs": [],
   "source": [
    "def calc_kinetic_temp(h,c,k,wavelength,e, L):\n",
    "    \n",
    "    Tk = (h*c)/(k*wavelength*math.log(((e*2*h*c**2)/(L*wavelength**5))+1))\n",
    "    return Tk"
   ]
  },
  {
   "cell_type": "code",
   "execution_count": 47,
   "id": "2487ccac-bad5-402e-8630-83b2afe17493",
   "metadata": {},
   "outputs": [
    {
     "data": {
      "text/plain": [
       "248.1531071013427"
      ]
     },
     "execution_count": 47,
     "metadata": {},
     "output_type": "execute_result"
    }
   ],
   "source": [
    "Tk = calc_kinetic_temp(h,c,k,lambda_3, e_3, L_3)\n",
    "Tk"
   ]
  },
  {
   "cell_type": "markdown",
   "id": "9b5e965a-e854-4157-b062-d5cd29af217c",
   "metadata": {},
   "source": [
    "Kinetic temp is 248 Kelvin"
   ]
  },
  {
   "cell_type": "code",
   "execution_count": 36,
   "id": "8cf31819-7c3f-441c-9065-505fd15de17b",
   "metadata": {},
   "outputs": [],
   "source": [
    "T_k3 = (h*c) / (k*lambda_3*math.log(1 + ((e_3 * 2 * h * c**2) / (L_3 * lambda_3**5))))"
   ]
  },
  {
   "cell_type": "code",
   "execution_count": 37,
   "id": "0f8fcdd4-6174-4d1f-87dc-e60c8ede242c",
   "metadata": {},
   "outputs": [
    {
     "data": {
      "text/plain": [
       "248.1531071013427"
      ]
     },
     "execution_count": 37,
     "metadata": {},
     "output_type": "execute_result"
    }
   ],
   "source": [
    "T_k3"
   ]
  },
  {
   "cell_type": "markdown",
   "id": "db0525cb-574c-4c1c-8ab8-498c8260445f",
   "metadata": {},
   "source": [
    "## Problem 4"
   ]
  },
  {
   "cell_type": "code",
   "execution_count": 52,
   "id": "32a33bd4-a024-4c48-9ac6-03fe8f37fd56",
   "metadata": {},
   "outputs": [],
   "source": [
    "def calc_kinetic_temp_given_Tb(h,c,k,wavelength, e, Tb):\n",
    "    \n",
    "    Tk = (h*c)/(k*wavelength*math.log(1+e*math.exp((h*c)/(k*wavelength*Tb))-e))\n",
    "    return Tk"
   ]
  },
  {
   "cell_type": "code",
   "execution_count": 53,
   "id": "719765a1-2a8d-43cf-85cc-3371df8186ee",
   "metadata": {},
   "outputs": [],
   "source": [
    "Tb4_rock = 302 #kelvin\n",
    "Tb4_mix = 778 #kelvin\n",
    "e4_lava = 0.97\n",
    "lambda_4 = 4e-6 #meters"
   ]
  },
  {
   "cell_type": "code",
   "execution_count": 116,
   "id": "c9e5eae4-3399-466f-9c25-fdad42eca0ae",
   "metadata": {},
   "outputs": [
    {
     "data": {
      "text/plain": [
       "772046.4576812931"
      ]
     },
     "execution_count": 116,
     "metadata": {},
     "output_type": "execute_result"
    }
   ],
   "source": [
    "## new verison   #def calc_emitted_spectral_radiance(e, h, c, k, wavelength, Tk):\n",
    "L_rock = calc_emitted_spectral_radiance(1, h,c,k, lambda_4, Tb4_rock)\n",
    "L_rock"
   ]
  },
  {
   "cell_type": "code",
   "execution_count": 117,
   "id": "49026651-fc5e-4eb7-b131-ded6c08427ca",
   "metadata": {},
   "outputs": [
    {
     "data": {
      "text/plain": [
       "1148924230.0475092"
      ]
     },
     "execution_count": 117,
     "metadata": {},
     "output_type": "execute_result"
    }
   ],
   "source": [
    "L_mix = calc_emitted_spectral_radiance(1, h,c,k, lambda_4, Tb4_mix)\n",
    "L_mix"
   ]
  },
  {
   "cell_type": "code",
   "execution_count": 118,
   "id": "8affc683-6393-42aa-be1c-ecaf3783fe0a",
   "metadata": {},
   "outputs": [],
   "source": [
    "quantity_lava = L_mix - (0.68 * L_rock)"
   ]
  },
  {
   "cell_type": "code",
   "execution_count": 119,
   "id": "9fcdbfad-d558-4e87-ac44-71cd25f8d913",
   "metadata": {},
   "outputs": [
    {
     "data": {
      "text/plain": [
       "3022103259.0954895"
      ]
     },
     "execution_count": 119,
     "metadata": {},
     "output_type": "execute_result"
    }
   ],
   "source": [
    "L_lava = quantity_lava / 0.38\n",
    "L_lava"
   ]
  },
  {
   "cell_type": "code",
   "execution_count": 120,
   "id": "dc115c3b-e2a0-454b-a9cf-b69e4e84c6ab",
   "metadata": {},
   "outputs": [],
   "source": [
    "Tk_lava = calc_kinetic_temp(h,c,k,lambda_4, e4_lava, L_lava)"
   ]
  },
  {
   "cell_type": "code",
   "execution_count": 121,
   "id": "d8250367-f4a8-448d-9801-83aefdc81676",
   "metadata": {},
   "outputs": [
    {
     "data": {
      "text/plain": [
       "987.2369057499196"
      ]
     },
     "execution_count": 121,
     "metadata": {},
     "output_type": "execute_result"
    }
   ],
   "source": [
    "Tk_lava"
   ]
  },
  {
   "cell_type": "code",
   "execution_count": null,
   "id": "f775c6f0-7d9e-430f-b576-d6c958b93c5f",
   "metadata": {},
   "outputs": [],
   "source": []
  }
 ],
 "metadata": {
  "kernelspec": {
   "display_name": "Python 3 (ipykernel)",
   "language": "python",
   "name": "python3"
  },
  "language_info": {
   "codemirror_mode": {
    "name": "ipython",
    "version": 3
   },
   "file_extension": ".py",
   "mimetype": "text/x-python",
   "name": "python",
   "nbconvert_exporter": "python",
   "pygments_lexer": "ipython3",
   "version": "3.10.6"
  }
 },
 "nbformat": 4,
 "nbformat_minor": 5
}
